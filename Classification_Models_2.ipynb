{
  "nbformat": 4,
  "nbformat_minor": 0,
  "metadata": {
    "colab": {
      "name": "Classification Models 2.ipynb",
      "provenance": []
    },
    "kernelspec": {
      "name": "python3",
      "display_name": "Python 3"
    }
  },
  "cells": [
    {
      "cell_type": "code",
      "metadata": {
        "id": "lSv35HxQsFyH"
      },
      "source": [
        "import numpy as np\n",
        "import pandas as pd\n",
        "from matplotlib import pyplot as plt\n",
        "from google.colab import drive\n",
        "from sklearn.model_selection import train_test_split, StratifiedKFold\n",
        "from sklearn.linear_model import LogisticRegression\n",
        "from sklearn.ensemble import RandomForestClassifier, VotingClassifier\n",
        "from sklearn.metrics import classification_report, plot_roc_curve\n",
        "from sklearn.neighbors import KNeighborsClassifier\n",
        "from sklearn.svm import SVC\n",
        "from keras.layers import Dense\n",
        "from keras.models import Sequential\n",
        "from keras.optimizers import SGD\n",
        "from keras.metrics import Recall\n",
        "from sklearn.decomposition import PCA\n",
        "import seaborn as sns\n",
        "from sklearn.metrics import roc_auc_score"
      ],
      "execution_count": null,
      "outputs": []
    },
    {
      "cell_type": "code",
      "metadata": {
        "colab": {
          "base_uri": "https://localhost:8080/"
        },
        "id": "24FkbGPSsP2y",
        "outputId": "5890b883-14a1-4508-bb12-47b5b05952d2"
      },
      "source": [
        "drive.mount('/content/drive')"
      ],
      "execution_count": null,
      "outputs": [
        {
          "output_type": "stream",
          "text": [
            "Mounted at /content/drive\n"
          ],
          "name": "stdout"
        }
      ]
    },
    {
      "cell_type": "code",
      "metadata": {
        "id": "6IN-u1MVsSj1"
      },
      "source": [
        "raw = pd.read_csv(\"drive/My Drive/COSIW/a_imputed.csv\")"
      ],
      "execution_count": null,
      "outputs": []
    },
    {
      "cell_type": "code",
      "metadata": {
        "id": "WTmxgRhctD4x"
      },
      "source": [
        "data = raw.copy(deep=True)"
      ],
      "execution_count": null,
      "outputs": []
    },
    {
      "cell_type": "code",
      "metadata": {
        "id": "7qrhwbuVsiuu"
      },
      "source": [
        "data.rename(columns={\"V00995\": \"label\"}, inplace=True)"
      ],
      "execution_count": null,
      "outputs": []
    },
    {
      "cell_type": "code",
      "metadata": {
        "id": "ruXSgWcPtTfJ"
      },
      "source": [
        "X = data.drop(\"label\", axis=1)\n",
        "y = data[\"label\"]"
      ],
      "execution_count": null,
      "outputs": []
    },
    {
      "cell_type": "code",
      "metadata": {
        "colab": {
          "base_uri": "https://localhost:8080/"
        },
        "id": "QVGLe9sVthZy",
        "outputId": "ee5a27f5-df4f-4d42-ca95-bde487eb6697"
      },
      "source": [
        "sss = StratifiedKFold(n_splits=10,  shuffle=True)\n",
        "for train_indices, test_indices in sss.split(X, y):\n",
        "  X_train, y_train = X.iloc[train_indices], y.iloc[train_indices]\n",
        "  X_test, y_test = X.iloc[test_indices], y.iloc[test_indices]\n",
        "  print(y_train.value_counts(), y_test.value_counts(), sep=\"\\n\")"
      ],
      "execution_count": null,
      "outputs": [
        {
          "output_type": "stream",
          "text": [
            "1.0    1860\n",
            "0.0    1268\n",
            "Name: label, dtype: int64\n",
            "1.0    207\n",
            "0.0    141\n",
            "Name: label, dtype: int64\n",
            "1.0    1860\n",
            "0.0    1268\n",
            "Name: label, dtype: int64\n",
            "1.0    207\n",
            "0.0    141\n",
            "Name: label, dtype: int64\n",
            "1.0    1860\n",
            "0.0    1268\n",
            "Name: label, dtype: int64\n",
            "1.0    207\n",
            "0.0    141\n",
            "Name: label, dtype: int64\n",
            "1.0    1860\n",
            "0.0    1268\n",
            "Name: label, dtype: int64\n",
            "1.0    207\n",
            "0.0    141\n",
            "Name: label, dtype: int64\n",
            "1.0    1860\n",
            "0.0    1268\n",
            "Name: label, dtype: int64\n",
            "1.0    207\n",
            "0.0    141\n",
            "Name: label, dtype: int64\n",
            "1.0    1860\n",
            "0.0    1268\n",
            "Name: label, dtype: int64\n",
            "1.0    207\n",
            "0.0    141\n",
            "Name: label, dtype: int64\n",
            "1.0    1860\n",
            "0.0    1269\n",
            "Name: label, dtype: int64\n",
            "1.0    207\n",
            "0.0    140\n",
            "Name: label, dtype: int64\n",
            "1.0    1861\n",
            "0.0    1268\n",
            "Name: label, dtype: int64\n",
            "1.0    206\n",
            "0.0    141\n",
            "Name: label, dtype: int64\n",
            "1.0    1861\n",
            "0.0    1268\n",
            "Name: label, dtype: int64\n",
            "1.0    206\n",
            "0.0    141\n",
            "Name: label, dtype: int64\n",
            "1.0    1861\n",
            "0.0    1268\n",
            "Name: label, dtype: int64\n",
            "1.0    206\n",
            "0.0    141\n",
            "Name: label, dtype: int64\n"
          ],
          "name": "stdout"
        }
      ]
    },
    {
      "cell_type": "code",
      "metadata": {
        "colab": {
          "base_uri": "https://localhost:8080/"
        },
        "id": "Zpl5bDUqtqik",
        "outputId": "304d27ca-4a44-435e-9b01-2794b70dee77"
      },
      "source": [
        "lr = LogisticRegression(n_jobs=-1)\n",
        "lr.fit(X_train, y_train)"
      ],
      "execution_count": null,
      "outputs": [
        {
          "output_type": "execute_result",
          "data": {
            "text/plain": [
              "LogisticRegression(C=1.0, class_weight=None, dual=False, fit_intercept=True,\n",
              "                   intercept_scaling=1, l1_ratio=None, max_iter=100,\n",
              "                   multi_class='auto', n_jobs=-1, penalty='l2',\n",
              "                   random_state=None, solver='lbfgs', tol=0.0001, verbose=0,\n",
              "                   warm_start=False)"
            ]
          },
          "metadata": {
            "tags": []
          },
          "execution_count": 19
        }
      ]
    },
    {
      "cell_type": "code",
      "metadata": {
        "colab": {
          "base_uri": "https://localhost:8080/"
        },
        "id": "a0zDYpvuuNXR",
        "outputId": "576f3b7b-f7a7-4922-835a-5932ac1381d9"
      },
      "source": [
        "cv_score =[]\n",
        "pred_test_full =0\n",
        "i=1\n",
        "\n",
        "\n",
        "score = roc_auc_score(y_test,lr.predict(X_test))\n",
        "print('ROC AUC score:',score)\n",
        "cv_score.append(score)    \n",
        "pred_test = lr.predict_proba(X_test)[:,1]\n",
        "pred_test_full +=pred_test\n",
        "i+=1"
      ],
      "execution_count": null,
      "outputs": [
        {
          "output_type": "stream",
          "text": [
            "ROC AUC score: 0.6466639124147904\n"
          ],
          "name": "stdout"
        }
      ]
    },
    {
      "cell_type": "code",
      "metadata": {
        "colab": {
          "base_uri": "https://localhost:8080/",
          "height": 241
        },
        "id": "3jDHwN50ujA8",
        "outputId": "2261f19a-c878-46fd-ae16-628db0e9e184"
      },
      "source": [
        "X.head()"
      ],
      "execution_count": null,
      "outputs": [
        {
          "output_type": "execute_result",
          "data": {
            "text/html": [
              "<div>\n",
              "<style scoped>\n",
              "    .dataframe tbody tr th:only-of-type {\n",
              "        vertical-align: middle;\n",
              "    }\n",
              "\n",
              "    .dataframe tbody tr th {\n",
              "        vertical-align: top;\n",
              "    }\n",
              "\n",
              "    .dataframe thead th {\n",
              "        text-align: right;\n",
              "    }\n",
              "</style>\n",
              "<table border=\"1\" class=\"dataframe\">\n",
              "  <thead>\n",
              "    <tr style=\"text-align: right;\">\n",
              "      <th></th>\n",
              "      <th>cited_difficulty</th>\n",
              "      <th>RANCEST_asian</th>\n",
              "      <th>RANCEST_black</th>\n",
              "      <th>RANCEST_hispanic</th>\n",
              "      <th>RANCEST_other</th>\n",
              "      <th>RANCEST_white</th>\n",
              "      <th>prob_talk_prof_1.0</th>\n",
              "      <th>prob_talk_prof_2.0</th>\n",
              "      <th>prob_talk_prof_3.0</th>\n",
              "      <th>prob_talk_prof_4.0</th>\n",
              "      <th>comf_talk_prof_1.0</th>\n",
              "      <th>comf_talk_prof_2.0</th>\n",
              "      <th>comf_talk_prof_3.0</th>\n",
              "      <th>comf_talk_prof_4.0</th>\n",
              "      <th>embar_talk_prof_1.0</th>\n",
              "      <th>embar_talk_prof_2.0</th>\n",
              "      <th>embar_talk_prof_3.0</th>\n",
              "      <th>embar_talk_prof_4.0</th>\n",
              "      <th>%_helpful_talk_prof_0-25</th>\n",
              "      <th>%_helpful_talk_prof_25-50</th>\n",
              "      <th>%_helpful_talk_prof_50-75</th>\n",
              "      <th>%_helpful_talk_prof_75-100</th>\n",
              "      <th>%_better_without_prof_0-25</th>\n",
              "      <th>%_better_without_prof_25-50</th>\n",
              "      <th>%_better_without_prof_50-75</th>\n",
              "      <th>%_better_without_prof_75-100</th>\n",
              "      <th>religion_comfort_1.0</th>\n",
              "      <th>religion_comfort_2.0</th>\n",
              "      <th>religion_comfort_3.0</th>\n",
              "      <th>religion_comfort_4.0</th>\n",
              "      <th>cost_routine_checkup_0</th>\n",
              "      <th>cost_routine_checkup_1-5</th>\n",
              "      <th>cost_routine_checkup_10-16</th>\n",
              "      <th>cost_routine_checkup_16-20</th>\n",
              "      <th>cost_routine_checkup_20-50</th>\n",
              "      <th>cost_routine_checkup_5-10</th>\n",
              "      <th>cost_routine_checkup_50-750</th>\n",
              "      <th>cost_perscrip_medicine_0</th>\n",
              "      <th>cost_perscrip_medicine_1-5</th>\n",
              "      <th>cost_perscrip_medicine_10-16</th>\n",
              "      <th>cost_perscrip_medicine_16-20</th>\n",
              "      <th>cost_perscrip_medicine_20-50</th>\n",
              "      <th>cost_perscrip_medicine_5-10</th>\n",
              "      <th>cost_perscrip_medicine_50-750</th>\n",
              "    </tr>\n",
              "  </thead>\n",
              "  <tbody>\n",
              "    <tr>\n",
              "      <th>0</th>\n",
              "      <td>1.0</td>\n",
              "      <td>0.0</td>\n",
              "      <td>0.0</td>\n",
              "      <td>1.0</td>\n",
              "      <td>0.0</td>\n",
              "      <td>0.0</td>\n",
              "      <td>1</td>\n",
              "      <td>0</td>\n",
              "      <td>0</td>\n",
              "      <td>0</td>\n",
              "      <td>1</td>\n",
              "      <td>0</td>\n",
              "      <td>0</td>\n",
              "      <td>0</td>\n",
              "      <td>0</td>\n",
              "      <td>0</td>\n",
              "      <td>0</td>\n",
              "      <td>1</td>\n",
              "      <td>0</td>\n",
              "      <td>0</td>\n",
              "      <td>0</td>\n",
              "      <td>1</td>\n",
              "      <td>1</td>\n",
              "      <td>0</td>\n",
              "      <td>0</td>\n",
              "      <td>0</td>\n",
              "      <td>1</td>\n",
              "      <td>0</td>\n",
              "      <td>0</td>\n",
              "      <td>0</td>\n",
              "      <td>0</td>\n",
              "      <td>0</td>\n",
              "      <td>0</td>\n",
              "      <td>0</td>\n",
              "      <td>0</td>\n",
              "      <td>1</td>\n",
              "      <td>0</td>\n",
              "      <td>0</td>\n",
              "      <td>0</td>\n",
              "      <td>1</td>\n",
              "      <td>0</td>\n",
              "      <td>0</td>\n",
              "      <td>0</td>\n",
              "      <td>0</td>\n",
              "    </tr>\n",
              "    <tr>\n",
              "      <th>1</th>\n",
              "      <td>1.0</td>\n",
              "      <td>0.0</td>\n",
              "      <td>0.0</td>\n",
              "      <td>1.0</td>\n",
              "      <td>0.0</td>\n",
              "      <td>0.0</td>\n",
              "      <td>0</td>\n",
              "      <td>0</td>\n",
              "      <td>1</td>\n",
              "      <td>0</td>\n",
              "      <td>0</td>\n",
              "      <td>1</td>\n",
              "      <td>0</td>\n",
              "      <td>0</td>\n",
              "      <td>0</td>\n",
              "      <td>0</td>\n",
              "      <td>0</td>\n",
              "      <td>1</td>\n",
              "      <td>0</td>\n",
              "      <td>0</td>\n",
              "      <td>0</td>\n",
              "      <td>0</td>\n",
              "      <td>1</td>\n",
              "      <td>0</td>\n",
              "      <td>0</td>\n",
              "      <td>0</td>\n",
              "      <td>0</td>\n",
              "      <td>0</td>\n",
              "      <td>0</td>\n",
              "      <td>1</td>\n",
              "      <td>0</td>\n",
              "      <td>0</td>\n",
              "      <td>0</td>\n",
              "      <td>1</td>\n",
              "      <td>0</td>\n",
              "      <td>0</td>\n",
              "      <td>0</td>\n",
              "      <td>0</td>\n",
              "      <td>0</td>\n",
              "      <td>0</td>\n",
              "      <td>0</td>\n",
              "      <td>1</td>\n",
              "      <td>0</td>\n",
              "      <td>0</td>\n",
              "    </tr>\n",
              "    <tr>\n",
              "      <th>2</th>\n",
              "      <td>1.0</td>\n",
              "      <td>0.0</td>\n",
              "      <td>0.0</td>\n",
              "      <td>1.0</td>\n",
              "      <td>0.0</td>\n",
              "      <td>0.0</td>\n",
              "      <td>1</td>\n",
              "      <td>0</td>\n",
              "      <td>0</td>\n",
              "      <td>0</td>\n",
              "      <td>1</td>\n",
              "      <td>0</td>\n",
              "      <td>0</td>\n",
              "      <td>0</td>\n",
              "      <td>0</td>\n",
              "      <td>0</td>\n",
              "      <td>0</td>\n",
              "      <td>1</td>\n",
              "      <td>0</td>\n",
              "      <td>0</td>\n",
              "      <td>0</td>\n",
              "      <td>1</td>\n",
              "      <td>1</td>\n",
              "      <td>0</td>\n",
              "      <td>0</td>\n",
              "      <td>0</td>\n",
              "      <td>1</td>\n",
              "      <td>0</td>\n",
              "      <td>0</td>\n",
              "      <td>0</td>\n",
              "      <td>0</td>\n",
              "      <td>0</td>\n",
              "      <td>1</td>\n",
              "      <td>0</td>\n",
              "      <td>0</td>\n",
              "      <td>0</td>\n",
              "      <td>0</td>\n",
              "      <td>0</td>\n",
              "      <td>0</td>\n",
              "      <td>0</td>\n",
              "      <td>0</td>\n",
              "      <td>0</td>\n",
              "      <td>0</td>\n",
              "      <td>1</td>\n",
              "    </tr>\n",
              "    <tr>\n",
              "      <th>3</th>\n",
              "      <td>1.0</td>\n",
              "      <td>0.0</td>\n",
              "      <td>0.0</td>\n",
              "      <td>1.0</td>\n",
              "      <td>0.0</td>\n",
              "      <td>0.0</td>\n",
              "      <td>1</td>\n",
              "      <td>0</td>\n",
              "      <td>0</td>\n",
              "      <td>0</td>\n",
              "      <td>1</td>\n",
              "      <td>0</td>\n",
              "      <td>0</td>\n",
              "      <td>0</td>\n",
              "      <td>0</td>\n",
              "      <td>0</td>\n",
              "      <td>0</td>\n",
              "      <td>1</td>\n",
              "      <td>0</td>\n",
              "      <td>0</td>\n",
              "      <td>0</td>\n",
              "      <td>1</td>\n",
              "      <td>1</td>\n",
              "      <td>0</td>\n",
              "      <td>0</td>\n",
              "      <td>0</td>\n",
              "      <td>1</td>\n",
              "      <td>0</td>\n",
              "      <td>0</td>\n",
              "      <td>0</td>\n",
              "      <td>1</td>\n",
              "      <td>0</td>\n",
              "      <td>0</td>\n",
              "      <td>0</td>\n",
              "      <td>0</td>\n",
              "      <td>0</td>\n",
              "      <td>0</td>\n",
              "      <td>1</td>\n",
              "      <td>0</td>\n",
              "      <td>0</td>\n",
              "      <td>0</td>\n",
              "      <td>0</td>\n",
              "      <td>0</td>\n",
              "      <td>0</td>\n",
              "    </tr>\n",
              "    <tr>\n",
              "      <th>4</th>\n",
              "      <td>1.0</td>\n",
              "      <td>1.0</td>\n",
              "      <td>0.0</td>\n",
              "      <td>0.0</td>\n",
              "      <td>0.0</td>\n",
              "      <td>0.0</td>\n",
              "      <td>0</td>\n",
              "      <td>0</td>\n",
              "      <td>1</td>\n",
              "      <td>0</td>\n",
              "      <td>0</td>\n",
              "      <td>1</td>\n",
              "      <td>0</td>\n",
              "      <td>0</td>\n",
              "      <td>0</td>\n",
              "      <td>0</td>\n",
              "      <td>1</td>\n",
              "      <td>0</td>\n",
              "      <td>0</td>\n",
              "      <td>1</td>\n",
              "      <td>0</td>\n",
              "      <td>0</td>\n",
              "      <td>0</td>\n",
              "      <td>1</td>\n",
              "      <td>0</td>\n",
              "      <td>0</td>\n",
              "      <td>0</td>\n",
              "      <td>0</td>\n",
              "      <td>1</td>\n",
              "      <td>0</td>\n",
              "      <td>0</td>\n",
              "      <td>0</td>\n",
              "      <td>0</td>\n",
              "      <td>0</td>\n",
              "      <td>0</td>\n",
              "      <td>0</td>\n",
              "      <td>0</td>\n",
              "      <td>0</td>\n",
              "      <td>0</td>\n",
              "      <td>0</td>\n",
              "      <td>0</td>\n",
              "      <td>0</td>\n",
              "      <td>1</td>\n",
              "      <td>0</td>\n",
              "    </tr>\n",
              "  </tbody>\n",
              "</table>\n",
              "</div>"
            ],
            "text/plain": [
              "   cited_difficulty  ...  cost_perscrip_medicine_50-750\n",
              "0               1.0  ...                              0\n",
              "1               1.0  ...                              0\n",
              "2               1.0  ...                              1\n",
              "3               1.0  ...                              0\n",
              "4               1.0  ...                              0\n",
              "\n",
              "[5 rows x 44 columns]"
            ]
          },
          "metadata": {
            "tags": []
          },
          "execution_count": 26
        }
      ]
    },
    {
      "cell_type": "code",
      "metadata": {
        "id": "c30gU_rau-AI"
      },
      "source": [
        "black_index = X.columns.get_loc(\"RANCEST_black\")\n",
        "white_index = X.columns.get_loc(\"RANCEST_white\")\n",
        "hisp_index = X.columns.get_loc(\"RANCEST_hispanic\")\n",
        "asian_index = X.columns.get_loc(\"RANCEST_asian\")"
      ],
      "execution_count": null,
      "outputs": []
    },
    {
      "cell_type": "code",
      "metadata": {
        "id": "IM8zO0qZvBTb"
      },
      "source": [
        "coefs = lr.coef_"
      ],
      "execution_count": null,
      "outputs": []
    },
    {
      "cell_type": "code",
      "metadata": {
        "id": "Oqz_4v4UvUkp"
      },
      "source": [
        "coefs = coefs.reshape((44,))"
      ],
      "execution_count": null,
      "outputs": []
    },
    {
      "cell_type": "code",
      "metadata": {
        "colab": {
          "base_uri": "https://localhost:8080/"
        },
        "id": "ssHKG7x0xpIq",
        "outputId": "335500d9-202a-4880-9443-6c302bd4226a"
      },
      "source": [
        "print(\"black coef: \" + str(coefs[black_index]))\n",
        "print(\"white coef: \" + str(coefs[white_index]))\n",
        "print(\"asian coef: \" + str(coefs[asian_index]))\n",
        "print(\"hispanic coef: \" + str(coefs[hisp_index]))"
      ],
      "execution_count": null,
      "outputs": [
        {
          "output_type": "stream",
          "text": [
            "black coef: -0.10882056839616007\n",
            "white coef: 0.5155501184468195\n",
            "asian coef: -0.5639978205333093\n",
            "hispanic coef: -0.2984491809106941\n"
          ],
          "name": "stdout"
        }
      ]
    },
    {
      "cell_type": "code",
      "metadata": {
        "colab": {
          "base_uri": "https://localhost:8080/"
        },
        "id": "IIwPSDCQynZT",
        "outputId": "bbd23dc5-d6ea-46a1-979f-f9e59b8781aa"
      },
      "source": [
        "prob_4_index = X.columns.get_loc(\"prob_talk_prof_4.0\")\n",
        "prob_1_index = X.columns.get_loc(\"prob_talk_prof_1.0\")\n",
        "embar_4_index = X.columns.get_loc(\"embar_talk_prof_4.0\")\n",
        "embar_1_index = X.columns.get_loc(\"embar_talk_prof_1.0\")\n",
        "\n",
        "print(\"prob_4 coef: \" + str(coefs[prob_4_index]))\n",
        "print(\"prob_1 coef: \" + str(coefs[prob_1_index ]))\n",
        "print(\"embar_4 coef: \" + str(coefs[embar_4_index]))\n",
        "print(\"embar_1 coef: \" + str(coefs[embar_1_index]))\n"
      ],
      "execution_count": null,
      "outputs": [
        {
          "output_type": "stream",
          "text": [
            "prob_4 coef: 1.8397144470246947\n",
            "prob_1 coef: 3.1593655781474075\n",
            "embar_4 coef: 0.5851808791898685\n",
            "embar_1 coef: 0.8105595198484019\n"
          ],
          "name": "stdout"
        }
      ]
    },
    {
      "cell_type": "code",
      "metadata": {
        "colab": {
          "base_uri": "https://localhost:8080/"
        },
        "id": "n0M7jyoDzwKZ",
        "outputId": "9453ac34-ae0c-4a39-d704-b32b01d1c6a8"
      },
      "source": [
        "relig_comfort_1 = X.columns.get_loc(\"religion_comfort_1.0\")\n",
        "relig_comfort_4 = X.columns.get_loc(\"religion_comfort_4.0\")\n",
        "\n",
        "print(\"relig_comfort_1 coef: \" + str(coefs[relig_comfort_1]))\n",
        "print(\"relig_comfort_4 coef: \" + str(coefs[relig_comfort_4 ]))"
      ],
      "execution_count": null,
      "outputs": [
        {
          "output_type": "stream",
          "text": [
            "relig_comfort_1 coef: -0.42683405598841223\n",
            "relig_comfort_4 coef: -0.922725873851087\n"
          ],
          "name": "stdout"
        }
      ]
    },
    {
      "cell_type": "markdown",
      "metadata": {
        "id": "oXX7Z-3xvx_-"
      },
      "source": [
        "## TRYING OTHER DATAFRAME\n",
        "\n",
        "\n"
      ]
    },
    {
      "cell_type": "code",
      "metadata": {
        "id": "b0HjqE4gvzrm"
      },
      "source": [
        ""
      ],
      "execution_count": null,
      "outputs": []
    }
  ]
}
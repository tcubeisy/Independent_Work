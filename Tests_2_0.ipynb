{
  "nbformat": 4,
  "nbformat_minor": 0,
  "metadata": {
    "colab": {
      "name": "Tests.2.0.ipynb",
      "provenance": []
    },
    "kernelspec": {
      "name": "python3",
      "display_name": "Python 3"
    }
  },
  "cells": [
    {
      "cell_type": "code",
      "metadata": {
        "id": "v5q6BkGL0_KY"
      },
      "source": [
        "import numpy as np\n",
        "import pandas as pd\n",
        "from google.colab import drive\n",
        "import math\n",
        "from scipy.stats import chi2_contingency, chi2\n",
        "from scipy import stats"
      ],
      "execution_count": null,
      "outputs": []
    },
    {
      "cell_type": "code",
      "metadata": {
        "colab": {
          "base_uri": "https://localhost:8080/"
        },
        "id": "rL6Tqv911H-6",
        "outputId": "24bf9da6-c8fc-4078-9b2c-2b08298f8302"
      },
      "source": [
        "drive.mount('/content/drive')"
      ],
      "execution_count": null,
      "outputs": [
        {
          "output_type": "stream",
          "text": [
            "Mounted at /content/drive\n"
          ],
          "name": "stdout"
        }
      ]
    },
    {
      "cell_type": "code",
      "metadata": {
        "id": "vaSIviXl1Oks"
      },
      "source": [
        "data = pd.read_csv(\"drive/My Drive/COSIW/imputed_2.csv\")"
      ],
      "execution_count": null,
      "outputs": []
    },
    {
      "cell_type": "code",
      "metadata": {
        "colab": {
          "base_uri": "https://localhost:8080/",
          "height": 270
        },
        "id": "sxfZz9U21e4S",
        "outputId": "705e9b5f-e4c3-4e89-85ae-9f6c1326c748"
      },
      "source": [
        "data.head()"
      ],
      "execution_count": null,
      "outputs": [
        {
          "output_type": "execute_result",
          "data": {
            "text/html": [
              "<div>\n",
              "<style scoped>\n",
              "    .dataframe tbody tr th:only-of-type {\n",
              "        vertical-align: middle;\n",
              "    }\n",
              "\n",
              "    .dataframe tbody tr th {\n",
              "        vertical-align: top;\n",
              "    }\n",
              "\n",
              "    .dataframe thead th {\n",
              "        text-align: right;\n",
              "    }\n",
              "</style>\n",
              "<table border=\"1\" class=\"dataframe\">\n",
              "  <thead>\n",
              "    <tr style=\"text-align: right;\">\n",
              "      <th></th>\n",
              "      <th>V00995</th>\n",
              "      <th>hospitalized_depression</th>\n",
              "      <th>anti_depress_12mnth</th>\n",
              "      <th>tranquil_12mnth</th>\n",
              "      <th>amphetanines_12mnth</th>\n",
              "      <th>anti_psychotic_12mnth</th>\n",
              "      <th>ins_military</th>\n",
              "      <th>ins_obtained_employer</th>\n",
              "      <th>ins_purchased_company</th>\n",
              "      <th>ins_medicare</th>\n",
              "      <th>ins_government_prog</th>\n",
              "      <th>ins_state_health</th>\n",
              "      <th>ins_other</th>\n",
              "      <th>recieved_welfare</th>\n",
              "      <th>child_died</th>\n",
              "      <th>non_english_home_lang</th>\n",
              "      <th>lived_biolog_parents</th>\n",
              "      <th>depression_tendency</th>\n",
              "      <th>depress_diagnos</th>\n",
              "      <th>children_HH_0</th>\n",
              "      <th>children_HH_1</th>\n",
              "      <th>children_HH_2</th>\n",
              "      <th>children_HH_3</th>\n",
              "      <th>children_HH_4</th>\n",
              "      <th>adults_HH_0</th>\n",
              "      <th>adults_HH_1</th>\n",
              "      <th>adults_HH_2</th>\n",
              "      <th>adults_HH_3</th>\n",
              "      <th>adults_HH_4</th>\n",
              "      <th>adults_HH_5</th>\n",
              "      <th>identify_ethnicity_1_1.0</th>\n",
              "      <th>identify_ethnicity_1_2.0</th>\n",
              "      <th>identify_ethnicity_1_3.0</th>\n",
              "      <th>identify_ethnicity_1_4.0</th>\n",
              "      <th>identify_ethnicity_2_1.0</th>\n",
              "      <th>identify_ethnicity_2_2.0</th>\n",
              "      <th>identify_ethnicity_2_3.0</th>\n",
              "      <th>identify_ethnicity_2_4.0</th>\n",
              "      <th>cost_routine_checkup_0</th>\n",
              "      <th>cost_routine_checkup_1-5</th>\n",
              "      <th>...</th>\n",
              "      <th>imp_religion_3.0</th>\n",
              "      <th>imp_religion_4.0</th>\n",
              "      <th>neighborhood_1.0</th>\n",
              "      <th>neighborhood_2.0</th>\n",
              "      <th>neighborhood_3.0</th>\n",
              "      <th>neighborhood_4.0</th>\n",
              "      <th>neighborhood_5.0</th>\n",
              "      <th>neighborhood_6.0</th>\n",
              "      <th>religion_1.0</th>\n",
              "      <th>religion_2.0</th>\n",
              "      <th>religion_3.0</th>\n",
              "      <th>religion_4.0</th>\n",
              "      <th>religion_5.0</th>\n",
              "      <th>religion_6.0</th>\n",
              "      <th>religion_7.0</th>\n",
              "      <th>religion_8.0</th>\n",
              "      <th>religion_9.0</th>\n",
              "      <th>religion_10.0</th>\n",
              "      <th>religion_11.0</th>\n",
              "      <th>religion_12.0</th>\n",
              "      <th>religion_13.0</th>\n",
              "      <th>religion_14.0</th>\n",
              "      <th>identify_ethnicity_1.0</th>\n",
              "      <th>identify_ethnicity_1.5</th>\n",
              "      <th>identify_ethnicity_2.0</th>\n",
              "      <th>identify_ethnicity_2.5</th>\n",
              "      <th>identify_ethnicity_3.0</th>\n",
              "      <th>identify_ethnicity_3.5</th>\n",
              "      <th>identify_ethnicity_4.0</th>\n",
              "      <th>prob_comf_talk_prof_1.0</th>\n",
              "      <th>prob_comf_talk_prof_1.5</th>\n",
              "      <th>prob_comf_talk_prof_2.0</th>\n",
              "      <th>prob_comf_talk_prof_2.5</th>\n",
              "      <th>prob_comf_talk_prof_3.0</th>\n",
              "      <th>prob_comf_talk_prof_3.5</th>\n",
              "      <th>prob_comf_talk_prof_4.0</th>\n",
              "      <th>sex_1</th>\n",
              "      <th>sex_2</th>\n",
              "      <th>primary_secondary_adult_1.0</th>\n",
              "      <th>primary_secondary_adult_2.0</th>\n",
              "    </tr>\n",
              "  </thead>\n",
              "  <tbody>\n",
              "    <tr>\n",
              "      <th>0</th>\n",
              "      <td>1</td>\n",
              "      <td>0</td>\n",
              "      <td>0.0</td>\n",
              "      <td>0</td>\n",
              "      <td>0.0</td>\n",
              "      <td>0</td>\n",
              "      <td>0</td>\n",
              "      <td>1</td>\n",
              "      <td>0</td>\n",
              "      <td>0</td>\n",
              "      <td>0</td>\n",
              "      <td>0</td>\n",
              "      <td>1</td>\n",
              "      <td>0</td>\n",
              "      <td>0</td>\n",
              "      <td>1.0</td>\n",
              "      <td>1.0</td>\n",
              "      <td>1.0</td>\n",
              "      <td>1.0</td>\n",
              "      <td>0.0</td>\n",
              "      <td>1.0</td>\n",
              "      <td>0.0</td>\n",
              "      <td>0.0</td>\n",
              "      <td>0.0</td>\n",
              "      <td>0.0</td>\n",
              "      <td>0.0</td>\n",
              "      <td>0.0</td>\n",
              "      <td>1.0</td>\n",
              "      <td>0.0</td>\n",
              "      <td>0.0</td>\n",
              "      <td>0</td>\n",
              "      <td>1</td>\n",
              "      <td>0</td>\n",
              "      <td>0</td>\n",
              "      <td>0</td>\n",
              "      <td>1</td>\n",
              "      <td>0</td>\n",
              "      <td>0</td>\n",
              "      <td>0</td>\n",
              "      <td>0</td>\n",
              "      <td>...</td>\n",
              "      <td>0</td>\n",
              "      <td>0</td>\n",
              "      <td>1</td>\n",
              "      <td>0</td>\n",
              "      <td>0</td>\n",
              "      <td>0</td>\n",
              "      <td>0</td>\n",
              "      <td>0</td>\n",
              "      <td>0.0</td>\n",
              "      <td>0</td>\n",
              "      <td>0</td>\n",
              "      <td>0</td>\n",
              "      <td>0</td>\n",
              "      <td>0.0</td>\n",
              "      <td>0</td>\n",
              "      <td>1</td>\n",
              "      <td>0</td>\n",
              "      <td>0.0</td>\n",
              "      <td>0.0</td>\n",
              "      <td>0</td>\n",
              "      <td>0</td>\n",
              "      <td>0</td>\n",
              "      <td>0</td>\n",
              "      <td>0</td>\n",
              "      <td>1</td>\n",
              "      <td>0</td>\n",
              "      <td>0</td>\n",
              "      <td>0</td>\n",
              "      <td>0</td>\n",
              "      <td>0.0</td>\n",
              "      <td>0</td>\n",
              "      <td>0</td>\n",
              "      <td>1</td>\n",
              "      <td>0.0</td>\n",
              "      <td>0</td>\n",
              "      <td>0</td>\n",
              "      <td>0.0</td>\n",
              "      <td>1.0</td>\n",
              "      <td>1.0</td>\n",
              "      <td>0.0</td>\n",
              "    </tr>\n",
              "    <tr>\n",
              "      <th>1</th>\n",
              "      <td>0</td>\n",
              "      <td>0</td>\n",
              "      <td>0.0</td>\n",
              "      <td>0</td>\n",
              "      <td>0.0</td>\n",
              "      <td>0</td>\n",
              "      <td>0</td>\n",
              "      <td>0</td>\n",
              "      <td>0</td>\n",
              "      <td>1</td>\n",
              "      <td>0</td>\n",
              "      <td>0</td>\n",
              "      <td>0</td>\n",
              "      <td>0</td>\n",
              "      <td>0</td>\n",
              "      <td>0.0</td>\n",
              "      <td>1.0</td>\n",
              "      <td>1.0</td>\n",
              "      <td>0.0</td>\n",
              "      <td>1.0</td>\n",
              "      <td>0.0</td>\n",
              "      <td>0.0</td>\n",
              "      <td>0.0</td>\n",
              "      <td>0.0</td>\n",
              "      <td>0.0</td>\n",
              "      <td>0.0</td>\n",
              "      <td>1.0</td>\n",
              "      <td>0.0</td>\n",
              "      <td>0.0</td>\n",
              "      <td>0.0</td>\n",
              "      <td>0</td>\n",
              "      <td>1</td>\n",
              "      <td>0</td>\n",
              "      <td>0</td>\n",
              "      <td>1</td>\n",
              "      <td>0</td>\n",
              "      <td>0</td>\n",
              "      <td>0</td>\n",
              "      <td>1</td>\n",
              "      <td>0</td>\n",
              "      <td>...</td>\n",
              "      <td>0</td>\n",
              "      <td>1</td>\n",
              "      <td>1</td>\n",
              "      <td>0</td>\n",
              "      <td>0</td>\n",
              "      <td>0</td>\n",
              "      <td>0</td>\n",
              "      <td>0</td>\n",
              "      <td>0.0</td>\n",
              "      <td>0</td>\n",
              "      <td>0</td>\n",
              "      <td>0</td>\n",
              "      <td>0</td>\n",
              "      <td>0.0</td>\n",
              "      <td>0</td>\n",
              "      <td>0</td>\n",
              "      <td>0</td>\n",
              "      <td>0.0</td>\n",
              "      <td>0.0</td>\n",
              "      <td>0</td>\n",
              "      <td>0</td>\n",
              "      <td>1</td>\n",
              "      <td>0</td>\n",
              "      <td>1</td>\n",
              "      <td>0</td>\n",
              "      <td>0</td>\n",
              "      <td>0</td>\n",
              "      <td>0</td>\n",
              "      <td>0</td>\n",
              "      <td>0.0</td>\n",
              "      <td>0</td>\n",
              "      <td>0</td>\n",
              "      <td>0</td>\n",
              "      <td>1.0</td>\n",
              "      <td>0</td>\n",
              "      <td>0</td>\n",
              "      <td>0.0</td>\n",
              "      <td>1.0</td>\n",
              "      <td>1.0</td>\n",
              "      <td>0.0</td>\n",
              "    </tr>\n",
              "    <tr>\n",
              "      <th>2</th>\n",
              "      <td>1</td>\n",
              "      <td>0</td>\n",
              "      <td>0.0</td>\n",
              "      <td>0</td>\n",
              "      <td>0.0</td>\n",
              "      <td>0</td>\n",
              "      <td>0</td>\n",
              "      <td>1</td>\n",
              "      <td>0</td>\n",
              "      <td>0</td>\n",
              "      <td>0</td>\n",
              "      <td>0</td>\n",
              "      <td>0</td>\n",
              "      <td>0</td>\n",
              "      <td>0</td>\n",
              "      <td>0.0</td>\n",
              "      <td>1.0</td>\n",
              "      <td>1.0</td>\n",
              "      <td>0.0</td>\n",
              "      <td>1.0</td>\n",
              "      <td>0.0</td>\n",
              "      <td>0.0</td>\n",
              "      <td>0.0</td>\n",
              "      <td>0.0</td>\n",
              "      <td>0.0</td>\n",
              "      <td>1.0</td>\n",
              "      <td>0.0</td>\n",
              "      <td>0.0</td>\n",
              "      <td>0.0</td>\n",
              "      <td>0.0</td>\n",
              "      <td>1</td>\n",
              "      <td>0</td>\n",
              "      <td>0</td>\n",
              "      <td>0</td>\n",
              "      <td>0</td>\n",
              "      <td>1</td>\n",
              "      <td>0</td>\n",
              "      <td>0</td>\n",
              "      <td>0</td>\n",
              "      <td>0</td>\n",
              "      <td>...</td>\n",
              "      <td>0</td>\n",
              "      <td>1</td>\n",
              "      <td>0</td>\n",
              "      <td>1</td>\n",
              "      <td>0</td>\n",
              "      <td>0</td>\n",
              "      <td>0</td>\n",
              "      <td>0</td>\n",
              "      <td>0.0</td>\n",
              "      <td>0</td>\n",
              "      <td>0</td>\n",
              "      <td>0</td>\n",
              "      <td>0</td>\n",
              "      <td>0.0</td>\n",
              "      <td>0</td>\n",
              "      <td>0</td>\n",
              "      <td>0</td>\n",
              "      <td>0.0</td>\n",
              "      <td>0.0</td>\n",
              "      <td>0</td>\n",
              "      <td>0</td>\n",
              "      <td>1</td>\n",
              "      <td>0</td>\n",
              "      <td>1</td>\n",
              "      <td>0</td>\n",
              "      <td>0</td>\n",
              "      <td>0</td>\n",
              "      <td>0</td>\n",
              "      <td>0</td>\n",
              "      <td>0.0</td>\n",
              "      <td>1</td>\n",
              "      <td>0</td>\n",
              "      <td>0</td>\n",
              "      <td>0.0</td>\n",
              "      <td>0</td>\n",
              "      <td>0</td>\n",
              "      <td>0.0</td>\n",
              "      <td>1.0</td>\n",
              "      <td>0.0</td>\n",
              "      <td>1.0</td>\n",
              "    </tr>\n",
              "    <tr>\n",
              "      <th>3</th>\n",
              "      <td>0</td>\n",
              "      <td>0</td>\n",
              "      <td>1.0</td>\n",
              "      <td>0</td>\n",
              "      <td>0.0</td>\n",
              "      <td>0</td>\n",
              "      <td>0</td>\n",
              "      <td>0</td>\n",
              "      <td>0</td>\n",
              "      <td>0</td>\n",
              "      <td>1</td>\n",
              "      <td>0</td>\n",
              "      <td>0</td>\n",
              "      <td>0</td>\n",
              "      <td>1</td>\n",
              "      <td>1.0</td>\n",
              "      <td>0.0</td>\n",
              "      <td>1.0</td>\n",
              "      <td>0.0</td>\n",
              "      <td>0.0</td>\n",
              "      <td>1.0</td>\n",
              "      <td>0.0</td>\n",
              "      <td>0.0</td>\n",
              "      <td>0.0</td>\n",
              "      <td>0.0</td>\n",
              "      <td>0.0</td>\n",
              "      <td>1.0</td>\n",
              "      <td>0.0</td>\n",
              "      <td>0.0</td>\n",
              "      <td>0.0</td>\n",
              "      <td>0</td>\n",
              "      <td>1</td>\n",
              "      <td>0</td>\n",
              "      <td>0</td>\n",
              "      <td>0</td>\n",
              "      <td>1</td>\n",
              "      <td>0</td>\n",
              "      <td>0</td>\n",
              "      <td>1</td>\n",
              "      <td>0</td>\n",
              "      <td>...</td>\n",
              "      <td>0</td>\n",
              "      <td>0</td>\n",
              "      <td>1</td>\n",
              "      <td>0</td>\n",
              "      <td>0</td>\n",
              "      <td>0</td>\n",
              "      <td>0</td>\n",
              "      <td>0</td>\n",
              "      <td>0.0</td>\n",
              "      <td>0</td>\n",
              "      <td>0</td>\n",
              "      <td>0</td>\n",
              "      <td>0</td>\n",
              "      <td>0.0</td>\n",
              "      <td>0</td>\n",
              "      <td>0</td>\n",
              "      <td>1</td>\n",
              "      <td>0.0</td>\n",
              "      <td>0.0</td>\n",
              "      <td>0</td>\n",
              "      <td>0</td>\n",
              "      <td>0</td>\n",
              "      <td>0</td>\n",
              "      <td>0</td>\n",
              "      <td>1</td>\n",
              "      <td>0</td>\n",
              "      <td>0</td>\n",
              "      <td>0</td>\n",
              "      <td>0</td>\n",
              "      <td>1.0</td>\n",
              "      <td>0</td>\n",
              "      <td>0</td>\n",
              "      <td>0</td>\n",
              "      <td>0.0</td>\n",
              "      <td>0</td>\n",
              "      <td>0</td>\n",
              "      <td>0.0</td>\n",
              "      <td>1.0</td>\n",
              "      <td>1.0</td>\n",
              "      <td>0.0</td>\n",
              "    </tr>\n",
              "    <tr>\n",
              "      <th>4</th>\n",
              "      <td>1</td>\n",
              "      <td>0</td>\n",
              "      <td>0.0</td>\n",
              "      <td>0</td>\n",
              "      <td>0.0</td>\n",
              "      <td>0</td>\n",
              "      <td>0</td>\n",
              "      <td>0</td>\n",
              "      <td>1</td>\n",
              "      <td>0</td>\n",
              "      <td>0</td>\n",
              "      <td>0</td>\n",
              "      <td>0</td>\n",
              "      <td>0</td>\n",
              "      <td>0</td>\n",
              "      <td>1.0</td>\n",
              "      <td>0.0</td>\n",
              "      <td>1.0</td>\n",
              "      <td>0.0</td>\n",
              "      <td>1.0</td>\n",
              "      <td>0.0</td>\n",
              "      <td>0.0</td>\n",
              "      <td>0.0</td>\n",
              "      <td>0.0</td>\n",
              "      <td>0.0</td>\n",
              "      <td>0.0</td>\n",
              "      <td>1.0</td>\n",
              "      <td>0.0</td>\n",
              "      <td>0.0</td>\n",
              "      <td>0.0</td>\n",
              "      <td>0</td>\n",
              "      <td>0</td>\n",
              "      <td>1</td>\n",
              "      <td>0</td>\n",
              "      <td>0</td>\n",
              "      <td>0</td>\n",
              "      <td>1</td>\n",
              "      <td>0</td>\n",
              "      <td>0</td>\n",
              "      <td>1</td>\n",
              "      <td>...</td>\n",
              "      <td>0</td>\n",
              "      <td>0</td>\n",
              "      <td>1</td>\n",
              "      <td>0</td>\n",
              "      <td>0</td>\n",
              "      <td>0</td>\n",
              "      <td>0</td>\n",
              "      <td>0</td>\n",
              "      <td>0.0</td>\n",
              "      <td>0</td>\n",
              "      <td>0</td>\n",
              "      <td>0</td>\n",
              "      <td>0</td>\n",
              "      <td>0.0</td>\n",
              "      <td>0</td>\n",
              "      <td>0</td>\n",
              "      <td>0</td>\n",
              "      <td>1.0</td>\n",
              "      <td>0.0</td>\n",
              "      <td>0</td>\n",
              "      <td>0</td>\n",
              "      <td>0</td>\n",
              "      <td>0</td>\n",
              "      <td>0</td>\n",
              "      <td>0</td>\n",
              "      <td>0</td>\n",
              "      <td>1</td>\n",
              "      <td>0</td>\n",
              "      <td>0</td>\n",
              "      <td>1.0</td>\n",
              "      <td>0</td>\n",
              "      <td>0</td>\n",
              "      <td>0</td>\n",
              "      <td>0.0</td>\n",
              "      <td>0</td>\n",
              "      <td>0</td>\n",
              "      <td>0.0</td>\n",
              "      <td>1.0</td>\n",
              "      <td>1.0</td>\n",
              "      <td>0.0</td>\n",
              "    </tr>\n",
              "  </tbody>\n",
              "</table>\n",
              "<p>5 rows × 147 columns</p>\n",
              "</div>"
            ],
            "text/plain": [
              "   V00995  ...  primary_secondary_adult_2.0\n",
              "0       1  ...                          0.0\n",
              "1       0  ...                          0.0\n",
              "2       1  ...                          1.0\n",
              "3       0  ...                          0.0\n",
              "4       1  ...                          0.0\n",
              "\n",
              "[5 rows x 147 columns]"
            ]
          },
          "metadata": {
            "tags": []
          },
          "execution_count": 4
        }
      ]
    },
    {
      "cell_type": "markdown",
      "metadata": {
        "id": "WQmqqgou1tjc"
      },
      "source": [
        "BLACK V0095"
      ]
    },
    {
      "cell_type": "code",
      "metadata": {
        "colab": {
          "base_uri": "https://localhost:8080/"
        },
        "id": "GcTUEeR11mb2",
        "outputId": "a534ce8c-db13-438a-c9ad-161eefb76348"
      },
      "source": [
        "contingency = pd.crosstab(data['RANCEST_black'], data['V00995'])\n",
        "stat, p, dof, expected = chi2_contingency(contingency)\n",
        "prob = 0.95\n",
        "critical = chi2.ppf(prob, dof)\n",
        "if abs(stat) >= critical:\n",
        "  print('Dependent (reject H0)')\n",
        "  print(p)\n",
        "else:\n",
        "\tprint('Independent (fail to reject H0)')"
      ],
      "execution_count": null,
      "outputs": [
        {
          "output_type": "stream",
          "text": [
            "Dependent (reject H0)\n",
            "0.005189264649690967\n"
          ],
          "name": "stdout"
        }
      ]
    },
    {
      "cell_type": "code",
      "metadata": {
        "colab": {
          "base_uri": "https://localhost:8080/"
        },
        "id": "FP_Bcb6K13La",
        "outputId": "0099b92f-d2ff-460b-ae70-22dc363c49df"
      },
      "source": [
        "contingency = pd.crosstab(data['RANCEST_white'], data['V00995'])\n",
        "stat, p, dof, expected = chi2_contingency(contingency)\n",
        "prob = 0.95\n",
        "critical = chi2.ppf(prob, dof)\n",
        "if abs(stat) >= critical:\n",
        "  print('Dependent (reject H0)')\n",
        "  print(p)\n",
        "else:\n",
        "\tprint('Independent (fail to reject H0)')"
      ],
      "execution_count": null,
      "outputs": [
        {
          "output_type": "stream",
          "text": [
            "Dependent (reject H0)\n",
            "2.713669379625302e-10\n"
          ],
          "name": "stdout"
        }
      ]
    },
    {
      "cell_type": "code",
      "metadata": {
        "colab": {
          "base_uri": "https://localhost:8080/"
        },
        "id": "oY8-QiWz176a",
        "outputId": "20661885-ac78-4a61-ae37-08446a0ca690"
      },
      "source": [
        "contingency = pd.crosstab(data['RANCEST_asian'], data['V00995'])\n",
        "stat, p, dof, expected = chi2_contingency(contingency)\n",
        "prob = 0.95\n",
        "critical = chi2.ppf(prob, dof)\n",
        "if abs(stat) >= critical:\n",
        "  print('Dependent (reject H0)')\n",
        "  print(p)\n",
        "else:\n",
        "  print('Independent (fail to reject H0)')\n",
        "  print(p)"
      ],
      "execution_count": null,
      "outputs": [
        {
          "output_type": "stream",
          "text": [
            "Independent (fail to reject H0)\n",
            "0.09611311352836988\n"
          ],
          "name": "stdout"
        }
      ]
    },
    {
      "cell_type": "code",
      "metadata": {
        "colab": {
          "base_uri": "https://localhost:8080/"
        },
        "id": "ojGvlkpF1_1s",
        "outputId": "887574ef-eac2-4586-c8e9-ed2512f780d2"
      },
      "source": [
        "contingency = pd.crosstab(data['RANCEST_hispanic'], data['V00995'])\n",
        "stat, p, dof, expected = chi2_contingency(contingency)\n",
        "prob = 0.95\n",
        "critical = chi2.ppf(prob, dof)\n",
        "if abs(stat) >= critical:\n",
        "  print('Dependent (reject H0)')\n",
        "  print(p)\n",
        "else:\n",
        "\tprint('Independent (fail to reject H0)')"
      ],
      "execution_count": null,
      "outputs": [
        {
          "output_type": "stream",
          "text": [
            "Dependent (reject H0)\n",
            "4.8782688315495296e-08\n"
          ],
          "name": "stdout"
        }
      ]
    },
    {
      "cell_type": "code",
      "metadata": {
        "colab": {
          "base_uri": "https://localhost:8080/"
        },
        "id": "ViDqBMX12Csy",
        "outputId": "ca02ad85-148a-44df-c1fc-e25b9d684830"
      },
      "source": [
        "contingency = pd.crosstab([data['RANCEST_asian'], data['RANCEST_black'], data['RANCEST_white'], data['RANCEST_hispanic']], data['V00995'])\n",
        "stat, p, dof, expected = chi2_contingency(contingency)\n",
        "prob = 0.95\n",
        "critical = chi2.ppf(prob, dof)\n",
        "if abs(stat) >= critical:\n",
        "  print('Dependent (reject H0)')\n",
        "  print(p)\n",
        "else:\n",
        "\tprint('Independent (fail to reject H0)')"
      ],
      "execution_count": null,
      "outputs": [
        {
          "output_type": "stream",
          "text": [
            "Dependent (reject H0)\n",
            "6.29261846390253e-10\n"
          ],
          "name": "stdout"
        }
      ]
    },
    {
      "cell_type": "code",
      "metadata": {
        "colab": {
          "base_uri": "https://localhost:8080/"
        },
        "id": "IL4OMsiH2SIE",
        "outputId": "b04844da-40f7-40c9-90aa-96f3f8e7c858"
      },
      "source": [
        "contingency = pd.crosstab(data['prob_comf_talk_prof_4.0'], data['V00995'])\n",
        "stat, p, dof, expected = chi2_contingency(contingency)\n",
        "prob = 0.95\n",
        "critical = chi2.ppf(prob, dof)\n",
        "if abs(stat) >= critical:\n",
        "  print('Dependent (reject H0)')\n",
        "  print(p)\n",
        "else:\n",
        "\tprint('Independent (fail to reject H0)')"
      ],
      "execution_count": null,
      "outputs": [
        {
          "output_type": "stream",
          "text": [
            "Dependent (reject H0)\n",
            "1.0216288464066563e-07\n"
          ],
          "name": "stdout"
        }
      ]
    },
    {
      "cell_type": "code",
      "metadata": {
        "colab": {
          "base_uri": "https://localhost:8080/"
        },
        "id": "6m7IbYM8I8uI",
        "outputId": "403c5d52-9cfa-4e8c-d982-1a049cbb09b1"
      },
      "source": [
        "contingency = pd.crosstab(data['prob_comf_talk_prof_1.0'], data['V00995'])\n",
        "stat, p, dof, expected = chi2_contingency(contingency)\n",
        "prob = 0.95\n",
        "critical = chi2.ppf(prob, dof)\n",
        "if abs(stat) >= critical:\n",
        "  print('Dependent (reject H0)')\n",
        "  print(p)\n",
        "else:\n",
        "\tprint('Independent (fail to reject H0)')"
      ],
      "execution_count": null,
      "outputs": [
        {
          "output_type": "stream",
          "text": [
            "Dependent (reject H0)\n",
            "2.222695583830338e-19\n"
          ],
          "name": "stdout"
        }
      ]
    },
    {
      "cell_type": "code",
      "metadata": {
        "colab": {
          "base_uri": "https://localhost:8080/"
        },
        "id": "6T288mjQJZSM",
        "outputId": "16a8d9ae-d48c-4617-9073-61967ad8ecb6"
      },
      "source": [
        "contingency = pd.crosstab(data['embar_talk_prof_4.0'], data['V00995'])\n",
        "stat, p, dof, expected = chi2_contingency(contingency)\n",
        "prob = 0.95\n",
        "critical = chi2.ppf(prob, dof)\n",
        "if abs(stat) >= critical:\n",
        "  print('Dependent (reject H0)')\n",
        "  print(p)\n",
        "else:\n",
        "\tprint('Independent (fail to reject H0)')"
      ],
      "execution_count": null,
      "outputs": [
        {
          "output_type": "stream",
          "text": [
            "Dependent (reject H0)\n",
            "4.388151645178493e-06\n"
          ],
          "name": "stdout"
        }
      ]
    },
    {
      "cell_type": "code",
      "metadata": {
        "colab": {
          "base_uri": "https://localhost:8080/"
        },
        "id": "c9yUX-p_JijW",
        "outputId": "158c0088-268a-478c-d424-8e329e2d95c2"
      },
      "source": [
        "contingency = pd.crosstab(data['embar_talk_prof_1.0'], data['V00995'])\n",
        "stat, p, dof, expected = chi2_contingency(contingency)\n",
        "prob = 0.95\n",
        "critical = chi2.ppf(prob, dof)\n",
        "if abs(stat) >= critical:\n",
        "  print('Dependent (reject H0)')\n",
        "  print(p)\n",
        "else:\n",
        "\tprint('Independent (fail to reject H0)')"
      ],
      "execution_count": null,
      "outputs": [
        {
          "output_type": "stream",
          "text": [
            "Dependent (reject H0)\n",
            "0.028837109729280327\n"
          ],
          "name": "stdout"
        }
      ]
    },
    {
      "cell_type": "code",
      "metadata": {
        "colab": {
          "base_uri": "https://localhost:8080/"
        },
        "id": "Q0bHMHBDJnuD",
        "outputId": "c827615e-b1bd-493c-cbb0-be9fed74c8fe"
      },
      "source": [
        "contingency = pd.crosstab(data['religion_comfort_1.0'], data['V00995'])\n",
        "stat, p, dof, expected = chi2_contingency(contingency)\n",
        "prob = 0.95\n",
        "critical = chi2.ppf(prob, dof)\n",
        "if abs(stat) >= critical:\n",
        "  print('Dependent (reject H0)')\n",
        "  print(p)\n",
        "else:\n",
        "\tprint('Independent (fail to reject H0)')"
      ],
      "execution_count": null,
      "outputs": [
        {
          "output_type": "stream",
          "text": [
            "Dependent (reject H0)\n",
            "1.3455135406617064e-06\n"
          ],
          "name": "stdout"
        }
      ]
    },
    {
      "cell_type": "code",
      "metadata": {
        "colab": {
          "base_uri": "https://localhost:8080/"
        },
        "id": "baDbzNRlJvId",
        "outputId": "6a2e7043-e119-4969-fa54-1eee2094a42e"
      },
      "source": [
        "contingency = pd.crosstab(data['religion_comfort_4.0'], data['V00995'])\n",
        "stat, p, dof, expected = chi2_contingency(contingency)\n",
        "prob = 0.95\n",
        "critical = chi2.ppf(prob, dof)\n",
        "if abs(stat) >= critical:\n",
        "  print('Dependent (reject H0)')\n",
        "  print(p)\n",
        "else:\n",
        "\tprint('Independent (fail to reject H0)')"
      ],
      "execution_count": null,
      "outputs": [
        {
          "output_type": "stream",
          "text": [
            "Dependent (reject H0)\n",
            "9.540933796321065e-06\n"
          ],
          "name": "stdout"
        }
      ]
    }
  ]
}
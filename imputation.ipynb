{
  "nbformat": 4,
  "nbformat_minor": 0,
  "metadata": {
    "colab": {
      "name": "imputation.ipynb",
      "provenance": [],
      "collapsed_sections": []
    },
    "kernelspec": {
      "display_name": "Python 3",
      "name": "python3"
    }
  },
  "cells": [
    {
      "cell_type": "code",
      "metadata": {
        "id": "cWWOPhIkDvkp"
      },
      "source": [
        "import numpy as np\n",
        "import pandas as pd\n",
        "from google.colab import drive\n",
        "from sklearn.impute import KNNImputer\n",
        "from mlxtend.frequent_patterns import apriori, association_rules"
      ],
      "execution_count": null,
      "outputs": []
    },
    {
      "cell_type": "code",
      "metadata": {
        "id": "E9O_U-R9D949",
        "colab": {
          "base_uri": "https://localhost:8080/"
        },
        "outputId": "2e18d7ba-ba81-4cfd-ab26-788b44879add"
      },
      "source": [
        "drive.mount('/content/drive', force_remount=True)"
      ],
      "execution_count": null,
      "outputs": [
        {
          "output_type": "stream",
          "text": [
            "Mounted at /content/drive\n"
          ],
          "name": "stdout"
        }
      ]
    },
    {
      "cell_type": "code",
      "metadata": {
        "id": "mNVA7CbTaR8C"
      },
      "source": [
        "def merge(df, cols, name, inverse=False):\n",
        "\n",
        "  if inverse == True:\n",
        "    if len(cols) != 2:\n",
        "      return -1\n",
        "\n",
        "    a = df[cols[0]]\n",
        "    b = np.invert(df[cols[1]])\n",
        "    df[name] = np.logical_or(a, b)\n",
        "\n",
        "  else:\n",
        "    \n",
        "    df[name] = df[cols[0]]\n",
        "  #pd.Series([np.nan for x in range(len(df.index))], index=df.index)\n",
        "\n",
        "    for col in df[cols].columns:\n",
        "      df[name] = np.logical_or(df[name], df[col])\n",
        "\n",
        "    df[name] = df[name]*1\n"
      ],
      "execution_count": null,
      "outputs": []
    },
    {
      "cell_type": "code",
      "metadata": {
        "id": "VrPE-rznD_Bp"
      },
      "source": [
        "raw = pd.read_csv(\"drive/My Drive/COSIW/clean_6.csv\")"
      ],
      "execution_count": null,
      "outputs": []
    },
    {
      "cell_type": "code",
      "metadata": {
        "id": "E4Pc0GErEDlr",
        "colab": {
          "base_uri": "https://localhost:8080/",
          "height": 270
        },
        "outputId": "15efa92f-5362-4fd9-9803-b829e7f15138"
      },
      "source": [
        "raw.head()"
      ],
      "execution_count": null,
      "outputs": [
        {
          "output_type": "execute_result",
          "data": {
            "text/html": [
              "<div>\n",
              "<style scoped>\n",
              "    .dataframe tbody tr th:only-of-type {\n",
              "        vertical-align: middle;\n",
              "    }\n",
              "\n",
              "    .dataframe tbody tr th {\n",
              "        vertical-align: top;\n",
              "    }\n",
              "\n",
              "    .dataframe thead th {\n",
              "        text-align: right;\n",
              "    }\n",
              "</style>\n",
              "<table border=\"1\" class=\"dataframe\">\n",
              "  <thead>\n",
              "    <tr style=\"text-align: right;\">\n",
              "      <th></th>\n",
              "      <th>V00995</th>\n",
              "      <th>hospitalized_depression</th>\n",
              "      <th>anti_depress_12mnth</th>\n",
              "      <th>tranquil_12mnth</th>\n",
              "      <th>amphetanines_12mnth</th>\n",
              "      <th>anti_psychotic_12mnth</th>\n",
              "      <th>ins_military</th>\n",
              "      <th>ins_obtained_employer</th>\n",
              "      <th>ins_purchased_company</th>\n",
              "      <th>ins_medicare</th>\n",
              "      <th>ins_government_prog</th>\n",
              "      <th>ins_state_health</th>\n",
              "      <th>ins_other</th>\n",
              "      <th>recieved_welfare</th>\n",
              "      <th>child_died</th>\n",
              "      <th>non_english_home_lang</th>\n",
              "      <th>lived_biolog_parents</th>\n",
              "      <th>depression_tendency</th>\n",
              "      <th>depress_diagnos</th>\n",
              "      <th>children_HH_0</th>\n",
              "      <th>children_HH_1</th>\n",
              "      <th>children_HH_2</th>\n",
              "      <th>children_HH_3</th>\n",
              "      <th>children_HH_4</th>\n",
              "      <th>adults_HH_0</th>\n",
              "      <th>adults_HH_1</th>\n",
              "      <th>adults_HH_2</th>\n",
              "      <th>adults_HH_3</th>\n",
              "      <th>adults_HH_4</th>\n",
              "      <th>adults_HH_5</th>\n",
              "      <th>identify_ethnicity_1_1.0</th>\n",
              "      <th>identify_ethnicity_1_2.0</th>\n",
              "      <th>identify_ethnicity_1_3.0</th>\n",
              "      <th>identify_ethnicity_1_4.0</th>\n",
              "      <th>identify_ethnicity_2_1.0</th>\n",
              "      <th>identify_ethnicity_2_2.0</th>\n",
              "      <th>identify_ethnicity_2_3.0</th>\n",
              "      <th>identify_ethnicity_2_4.0</th>\n",
              "      <th>cost_routine_checkup_0</th>\n",
              "      <th>cost_routine_checkup_1-5</th>\n",
              "      <th>...</th>\n",
              "      <th>imp_religion_3.0</th>\n",
              "      <th>imp_religion_4.0</th>\n",
              "      <th>neighborhood_1.0</th>\n",
              "      <th>neighborhood_2.0</th>\n",
              "      <th>neighborhood_3.0</th>\n",
              "      <th>neighborhood_4.0</th>\n",
              "      <th>neighborhood_5.0</th>\n",
              "      <th>neighborhood_6.0</th>\n",
              "      <th>religion_1.0</th>\n",
              "      <th>religion_2.0</th>\n",
              "      <th>religion_3.0</th>\n",
              "      <th>religion_4.0</th>\n",
              "      <th>religion_5.0</th>\n",
              "      <th>religion_6.0</th>\n",
              "      <th>religion_7.0</th>\n",
              "      <th>religion_8.0</th>\n",
              "      <th>religion_9.0</th>\n",
              "      <th>religion_10.0</th>\n",
              "      <th>religion_11.0</th>\n",
              "      <th>religion_12.0</th>\n",
              "      <th>religion_13.0</th>\n",
              "      <th>religion_14.0</th>\n",
              "      <th>identify_ethnicity_1.0</th>\n",
              "      <th>identify_ethnicity_1.5</th>\n",
              "      <th>identify_ethnicity_2.0</th>\n",
              "      <th>identify_ethnicity_2.5</th>\n",
              "      <th>identify_ethnicity_3.0</th>\n",
              "      <th>identify_ethnicity_3.5</th>\n",
              "      <th>identify_ethnicity_4.0</th>\n",
              "      <th>prob_comf_talk_prof_1.0</th>\n",
              "      <th>prob_comf_talk_prof_1.5</th>\n",
              "      <th>prob_comf_talk_prof_2.0</th>\n",
              "      <th>prob_comf_talk_prof_2.5</th>\n",
              "      <th>prob_comf_talk_prof_3.0</th>\n",
              "      <th>prob_comf_talk_prof_3.5</th>\n",
              "      <th>prob_comf_talk_prof_4.0</th>\n",
              "      <th>sex_1</th>\n",
              "      <th>sex_2</th>\n",
              "      <th>primary_secondary_adult_1.0</th>\n",
              "      <th>primary_secondary_adult_2.0</th>\n",
              "    </tr>\n",
              "  </thead>\n",
              "  <tbody>\n",
              "    <tr>\n",
              "      <th>0</th>\n",
              "      <td>1.0</td>\n",
              "      <td>0.0</td>\n",
              "      <td>0.0</td>\n",
              "      <td>0.0</td>\n",
              "      <td>0.0</td>\n",
              "      <td>0.0</td>\n",
              "      <td>0.0</td>\n",
              "      <td>1.0</td>\n",
              "      <td>0.0</td>\n",
              "      <td>0.0</td>\n",
              "      <td>0.0</td>\n",
              "      <td>0.0</td>\n",
              "      <td>1.0</td>\n",
              "      <td>0.0</td>\n",
              "      <td>0.0</td>\n",
              "      <td>1.0</td>\n",
              "      <td>1.0</td>\n",
              "      <td>1</td>\n",
              "      <td>1</td>\n",
              "      <td>0.0</td>\n",
              "      <td>1.0</td>\n",
              "      <td>0.0</td>\n",
              "      <td>0.0</td>\n",
              "      <td>0.0</td>\n",
              "      <td>0.0</td>\n",
              "      <td>0.0</td>\n",
              "      <td>0.0</td>\n",
              "      <td>1.0</td>\n",
              "      <td>0.0</td>\n",
              "      <td>0.0</td>\n",
              "      <td>0.0</td>\n",
              "      <td>1.0</td>\n",
              "      <td>0.0</td>\n",
              "      <td>0.0</td>\n",
              "      <td>0.0</td>\n",
              "      <td>1.0</td>\n",
              "      <td>0.0</td>\n",
              "      <td>0.0</td>\n",
              "      <td>0.0</td>\n",
              "      <td>0.0</td>\n",
              "      <td>...</td>\n",
              "      <td>0.0</td>\n",
              "      <td>0.0</td>\n",
              "      <td>1.0</td>\n",
              "      <td>0.0</td>\n",
              "      <td>0.0</td>\n",
              "      <td>0.0</td>\n",
              "      <td>0.0</td>\n",
              "      <td>0.0</td>\n",
              "      <td>0.0</td>\n",
              "      <td>0.0</td>\n",
              "      <td>0.0</td>\n",
              "      <td>0.0</td>\n",
              "      <td>0.0</td>\n",
              "      <td>0.0</td>\n",
              "      <td>0.0</td>\n",
              "      <td>1.0</td>\n",
              "      <td>0.0</td>\n",
              "      <td>0.0</td>\n",
              "      <td>0.0</td>\n",
              "      <td>0.0</td>\n",
              "      <td>0.0</td>\n",
              "      <td>0.0</td>\n",
              "      <td>0.0</td>\n",
              "      <td>0.0</td>\n",
              "      <td>1.0</td>\n",
              "      <td>0.0</td>\n",
              "      <td>0.0</td>\n",
              "      <td>0.0</td>\n",
              "      <td>0.0</td>\n",
              "      <td>0.0</td>\n",
              "      <td>0.0</td>\n",
              "      <td>0.0</td>\n",
              "      <td>1.0</td>\n",
              "      <td>0.0</td>\n",
              "      <td>0.0</td>\n",
              "      <td>0.0</td>\n",
              "      <td>0</td>\n",
              "      <td>1</td>\n",
              "      <td>1</td>\n",
              "      <td>0</td>\n",
              "    </tr>\n",
              "    <tr>\n",
              "      <th>1</th>\n",
              "      <td>0.0</td>\n",
              "      <td>NaN</td>\n",
              "      <td>0.0</td>\n",
              "      <td>0.0</td>\n",
              "      <td>0.0</td>\n",
              "      <td>0.0</td>\n",
              "      <td>0.0</td>\n",
              "      <td>0.0</td>\n",
              "      <td>0.0</td>\n",
              "      <td>1.0</td>\n",
              "      <td>0.0</td>\n",
              "      <td>0.0</td>\n",
              "      <td>0.0</td>\n",
              "      <td>NaN</td>\n",
              "      <td>0.0</td>\n",
              "      <td>0.0</td>\n",
              "      <td>1.0</td>\n",
              "      <td>1</td>\n",
              "      <td>0</td>\n",
              "      <td>1.0</td>\n",
              "      <td>0.0</td>\n",
              "      <td>0.0</td>\n",
              "      <td>0.0</td>\n",
              "      <td>0.0</td>\n",
              "      <td>0.0</td>\n",
              "      <td>0.0</td>\n",
              "      <td>1.0</td>\n",
              "      <td>0.0</td>\n",
              "      <td>0.0</td>\n",
              "      <td>0.0</td>\n",
              "      <td>0.0</td>\n",
              "      <td>1.0</td>\n",
              "      <td>0.0</td>\n",
              "      <td>0.0</td>\n",
              "      <td>1.0</td>\n",
              "      <td>0.0</td>\n",
              "      <td>0.0</td>\n",
              "      <td>0.0</td>\n",
              "      <td>1.0</td>\n",
              "      <td>0.0</td>\n",
              "      <td>...</td>\n",
              "      <td>0.0</td>\n",
              "      <td>1.0</td>\n",
              "      <td>1.0</td>\n",
              "      <td>0.0</td>\n",
              "      <td>0.0</td>\n",
              "      <td>0.0</td>\n",
              "      <td>0.0</td>\n",
              "      <td>0.0</td>\n",
              "      <td>0.0</td>\n",
              "      <td>0.0</td>\n",
              "      <td>0.0</td>\n",
              "      <td>0.0</td>\n",
              "      <td>0.0</td>\n",
              "      <td>0.0</td>\n",
              "      <td>0.0</td>\n",
              "      <td>0.0</td>\n",
              "      <td>0.0</td>\n",
              "      <td>0.0</td>\n",
              "      <td>0.0</td>\n",
              "      <td>0.0</td>\n",
              "      <td>0.0</td>\n",
              "      <td>1.0</td>\n",
              "      <td>0.0</td>\n",
              "      <td>1.0</td>\n",
              "      <td>0.0</td>\n",
              "      <td>0.0</td>\n",
              "      <td>0.0</td>\n",
              "      <td>0.0</td>\n",
              "      <td>0.0</td>\n",
              "      <td>0.0</td>\n",
              "      <td>0.0</td>\n",
              "      <td>0.0</td>\n",
              "      <td>0.0</td>\n",
              "      <td>1.0</td>\n",
              "      <td>0.0</td>\n",
              "      <td>0.0</td>\n",
              "      <td>0</td>\n",
              "      <td>1</td>\n",
              "      <td>1</td>\n",
              "      <td>0</td>\n",
              "    </tr>\n",
              "    <tr>\n",
              "      <th>2</th>\n",
              "      <td>1.0</td>\n",
              "      <td>0.0</td>\n",
              "      <td>0.0</td>\n",
              "      <td>0.0</td>\n",
              "      <td>0.0</td>\n",
              "      <td>0.0</td>\n",
              "      <td>0.0</td>\n",
              "      <td>1.0</td>\n",
              "      <td>0.0</td>\n",
              "      <td>0.0</td>\n",
              "      <td>0.0</td>\n",
              "      <td>0.0</td>\n",
              "      <td>0.0</td>\n",
              "      <td>NaN</td>\n",
              "      <td>0.0</td>\n",
              "      <td>0.0</td>\n",
              "      <td>1.0</td>\n",
              "      <td>1</td>\n",
              "      <td>0</td>\n",
              "      <td>1.0</td>\n",
              "      <td>0.0</td>\n",
              "      <td>0.0</td>\n",
              "      <td>0.0</td>\n",
              "      <td>0.0</td>\n",
              "      <td>0.0</td>\n",
              "      <td>1.0</td>\n",
              "      <td>0.0</td>\n",
              "      <td>0.0</td>\n",
              "      <td>0.0</td>\n",
              "      <td>0.0</td>\n",
              "      <td>1.0</td>\n",
              "      <td>0.0</td>\n",
              "      <td>0.0</td>\n",
              "      <td>0.0</td>\n",
              "      <td>0.0</td>\n",
              "      <td>1.0</td>\n",
              "      <td>0.0</td>\n",
              "      <td>0.0</td>\n",
              "      <td>0.0</td>\n",
              "      <td>0.0</td>\n",
              "      <td>...</td>\n",
              "      <td>0.0</td>\n",
              "      <td>1.0</td>\n",
              "      <td>0.0</td>\n",
              "      <td>1.0</td>\n",
              "      <td>0.0</td>\n",
              "      <td>0.0</td>\n",
              "      <td>0.0</td>\n",
              "      <td>0.0</td>\n",
              "      <td>0.0</td>\n",
              "      <td>0.0</td>\n",
              "      <td>0.0</td>\n",
              "      <td>0.0</td>\n",
              "      <td>0.0</td>\n",
              "      <td>0.0</td>\n",
              "      <td>0.0</td>\n",
              "      <td>0.0</td>\n",
              "      <td>0.0</td>\n",
              "      <td>0.0</td>\n",
              "      <td>0.0</td>\n",
              "      <td>0.0</td>\n",
              "      <td>0.0</td>\n",
              "      <td>1.0</td>\n",
              "      <td>0.0</td>\n",
              "      <td>1.0</td>\n",
              "      <td>0.0</td>\n",
              "      <td>0.0</td>\n",
              "      <td>0.0</td>\n",
              "      <td>0.0</td>\n",
              "      <td>0.0</td>\n",
              "      <td>0.0</td>\n",
              "      <td>1.0</td>\n",
              "      <td>0.0</td>\n",
              "      <td>0.0</td>\n",
              "      <td>0.0</td>\n",
              "      <td>0.0</td>\n",
              "      <td>0.0</td>\n",
              "      <td>0</td>\n",
              "      <td>1</td>\n",
              "      <td>0</td>\n",
              "      <td>1</td>\n",
              "    </tr>\n",
              "    <tr>\n",
              "      <th>3</th>\n",
              "      <td>0.0</td>\n",
              "      <td>NaN</td>\n",
              "      <td>1.0</td>\n",
              "      <td>0.0</td>\n",
              "      <td>0.0</td>\n",
              "      <td>0.0</td>\n",
              "      <td>0.0</td>\n",
              "      <td>0.0</td>\n",
              "      <td>0.0</td>\n",
              "      <td>0.0</td>\n",
              "      <td>1.0</td>\n",
              "      <td>0.0</td>\n",
              "      <td>0.0</td>\n",
              "      <td>0.0</td>\n",
              "      <td>1.0</td>\n",
              "      <td>1.0</td>\n",
              "      <td>0.0</td>\n",
              "      <td>1</td>\n",
              "      <td>0</td>\n",
              "      <td>0.0</td>\n",
              "      <td>1.0</td>\n",
              "      <td>0.0</td>\n",
              "      <td>0.0</td>\n",
              "      <td>0.0</td>\n",
              "      <td>0.0</td>\n",
              "      <td>0.0</td>\n",
              "      <td>1.0</td>\n",
              "      <td>0.0</td>\n",
              "      <td>0.0</td>\n",
              "      <td>0.0</td>\n",
              "      <td>0.0</td>\n",
              "      <td>1.0</td>\n",
              "      <td>0.0</td>\n",
              "      <td>0.0</td>\n",
              "      <td>0.0</td>\n",
              "      <td>1.0</td>\n",
              "      <td>0.0</td>\n",
              "      <td>0.0</td>\n",
              "      <td>1.0</td>\n",
              "      <td>0.0</td>\n",
              "      <td>...</td>\n",
              "      <td>0.0</td>\n",
              "      <td>0.0</td>\n",
              "      <td>1.0</td>\n",
              "      <td>0.0</td>\n",
              "      <td>0.0</td>\n",
              "      <td>0.0</td>\n",
              "      <td>0.0</td>\n",
              "      <td>0.0</td>\n",
              "      <td>0.0</td>\n",
              "      <td>0.0</td>\n",
              "      <td>0.0</td>\n",
              "      <td>0.0</td>\n",
              "      <td>0.0</td>\n",
              "      <td>0.0</td>\n",
              "      <td>0.0</td>\n",
              "      <td>0.0</td>\n",
              "      <td>1.0</td>\n",
              "      <td>0.0</td>\n",
              "      <td>0.0</td>\n",
              "      <td>0.0</td>\n",
              "      <td>0.0</td>\n",
              "      <td>0.0</td>\n",
              "      <td>0.0</td>\n",
              "      <td>0.0</td>\n",
              "      <td>1.0</td>\n",
              "      <td>0.0</td>\n",
              "      <td>0.0</td>\n",
              "      <td>0.0</td>\n",
              "      <td>0.0</td>\n",
              "      <td>1.0</td>\n",
              "      <td>0.0</td>\n",
              "      <td>0.0</td>\n",
              "      <td>0.0</td>\n",
              "      <td>0.0</td>\n",
              "      <td>0.0</td>\n",
              "      <td>0.0</td>\n",
              "      <td>0</td>\n",
              "      <td>1</td>\n",
              "      <td>1</td>\n",
              "      <td>0</td>\n",
              "    </tr>\n",
              "    <tr>\n",
              "      <th>4</th>\n",
              "      <td>NaN</td>\n",
              "      <td>NaN</td>\n",
              "      <td>0.0</td>\n",
              "      <td>0.0</td>\n",
              "      <td>0.0</td>\n",
              "      <td>0.0</td>\n",
              "      <td>0.0</td>\n",
              "      <td>0.0</td>\n",
              "      <td>1.0</td>\n",
              "      <td>0.0</td>\n",
              "      <td>0.0</td>\n",
              "      <td>0.0</td>\n",
              "      <td>0.0</td>\n",
              "      <td>0.0</td>\n",
              "      <td>0.0</td>\n",
              "      <td>1.0</td>\n",
              "      <td>0.0</td>\n",
              "      <td>1</td>\n",
              "      <td>0</td>\n",
              "      <td>1.0</td>\n",
              "      <td>0.0</td>\n",
              "      <td>0.0</td>\n",
              "      <td>0.0</td>\n",
              "      <td>0.0</td>\n",
              "      <td>0.0</td>\n",
              "      <td>0.0</td>\n",
              "      <td>1.0</td>\n",
              "      <td>0.0</td>\n",
              "      <td>0.0</td>\n",
              "      <td>0.0</td>\n",
              "      <td>0.0</td>\n",
              "      <td>0.0</td>\n",
              "      <td>1.0</td>\n",
              "      <td>0.0</td>\n",
              "      <td>0.0</td>\n",
              "      <td>0.0</td>\n",
              "      <td>1.0</td>\n",
              "      <td>0.0</td>\n",
              "      <td>0.0</td>\n",
              "      <td>1.0</td>\n",
              "      <td>...</td>\n",
              "      <td>0.0</td>\n",
              "      <td>0.0</td>\n",
              "      <td>1.0</td>\n",
              "      <td>0.0</td>\n",
              "      <td>0.0</td>\n",
              "      <td>0.0</td>\n",
              "      <td>0.0</td>\n",
              "      <td>0.0</td>\n",
              "      <td>0.0</td>\n",
              "      <td>0.0</td>\n",
              "      <td>0.0</td>\n",
              "      <td>0.0</td>\n",
              "      <td>0.0</td>\n",
              "      <td>0.0</td>\n",
              "      <td>0.0</td>\n",
              "      <td>0.0</td>\n",
              "      <td>0.0</td>\n",
              "      <td>1.0</td>\n",
              "      <td>0.0</td>\n",
              "      <td>0.0</td>\n",
              "      <td>0.0</td>\n",
              "      <td>0.0</td>\n",
              "      <td>0.0</td>\n",
              "      <td>0.0</td>\n",
              "      <td>0.0</td>\n",
              "      <td>0.0</td>\n",
              "      <td>1.0</td>\n",
              "      <td>0.0</td>\n",
              "      <td>0.0</td>\n",
              "      <td>1.0</td>\n",
              "      <td>0.0</td>\n",
              "      <td>0.0</td>\n",
              "      <td>0.0</td>\n",
              "      <td>0.0</td>\n",
              "      <td>0.0</td>\n",
              "      <td>0.0</td>\n",
              "      <td>0</td>\n",
              "      <td>1</td>\n",
              "      <td>1</td>\n",
              "      <td>0</td>\n",
              "    </tr>\n",
              "  </tbody>\n",
              "</table>\n",
              "<p>5 rows × 147 columns</p>\n",
              "</div>"
            ],
            "text/plain": [
              "   V00995  ...  primary_secondary_adult_2.0\n",
              "0     1.0  ...                            0\n",
              "1     0.0  ...                            0\n",
              "2     1.0  ...                            1\n",
              "3     0.0  ...                            0\n",
              "4     NaN  ...                            0\n",
              "\n",
              "[5 rows x 147 columns]"
            ]
          },
          "metadata": {
            "tags": []
          },
          "execution_count": 4
        }
      ]
    },
    {
      "cell_type": "code",
      "metadata": {
        "id": "2eMH87uhEimB",
        "colab": {
          "base_uri": "https://localhost:8080/"
        },
        "outputId": "761d96f9-69ed-45c9-a9a0-f7f796e709d7"
      },
      "source": [
        "raw.shape"
      ],
      "execution_count": null,
      "outputs": [
        {
          "output_type": "execute_result",
          "data": {
            "text/plain": [
              "(4000, 147)"
            ]
          },
          "metadata": {
            "tags": []
          },
          "execution_count": 5
        }
      ]
    },
    {
      "cell_type": "code",
      "metadata": {
        "id": "1r1fapX2G2Uv"
      },
      "source": [
        "new_data = raw.copy(deep=True)"
      ],
      "execution_count": null,
      "outputs": []
    },
    {
      "cell_type": "code",
      "metadata": {
        "id": "QvhiW8FuF5ZU"
      },
      "source": [
        "imputer = KNNImputer(n_neighbors=5)"
      ],
      "execution_count": null,
      "outputs": []
    },
    {
      "cell_type": "code",
      "metadata": {
        "id": "05jXZGvDGz8Z"
      },
      "source": [
        "imputed_new_data = imputer.fit_transform(new_data)"
      ],
      "execution_count": null,
      "outputs": []
    },
    {
      "cell_type": "code",
      "metadata": {
        "id": "_5NjKVZUG9G1",
        "colab": {
          "base_uri": "https://localhost:8080/"
        },
        "outputId": "6b19ade8-1928-4b44-8087-7af7b73f4089"
      },
      "source": [
        "np.isnan(imputed_new_data).sum()"
      ],
      "execution_count": null,
      "outputs": [
        {
          "output_type": "execute_result",
          "data": {
            "text/plain": [
              "0"
            ]
          },
          "metadata": {
            "tags": []
          },
          "execution_count": 9
        }
      ]
    },
    {
      "cell_type": "code",
      "metadata": {
        "id": "UP3buDNrG_AW"
      },
      "source": [
        "imputed_new_data_df = pd.DataFrame(data=imputed_new_data, columns=new_data.columns)"
      ],
      "execution_count": null,
      "outputs": []
    },
    {
      "cell_type": "code",
      "metadata": {
        "id": "_m2UcVlUKSQr"
      },
      "source": [
        "threshold_data = imputed_new_data_df.copy(deep=True)"
      ],
      "execution_count": null,
      "outputs": []
    },
    {
      "cell_type": "code",
      "metadata": {
        "id": "CtyfJkgaHaWM"
      },
      "source": [
        "for col in threshold_data.columns:\n",
        "  if len(threshold_data[col].unique()) > 2:\n",
        "    threshold_data[col] = threshold_data[col].apply(lambda x: 1 if x >= 0.5 else 0)"
      ],
      "execution_count": null,
      "outputs": []
    },
    {
      "cell_type": "code",
      "metadata": {
        "id": "PmZVa25VLbHy"
      },
      "source": [
        "threshold_data.to_csv(\"drive/My Drive/COSIW/imputed_2.csv\", index=False)"
      ],
      "execution_count": null,
      "outputs": []
    },
    {
      "cell_type": "markdown",
      "metadata": {
        "id": "waBcVsp-YKaH"
      },
      "source": [
        "# NEW IMPUTATION"
      ]
    },
    {
      "cell_type": "code",
      "metadata": {
        "id": "qbSd4ZSOJS3e"
      },
      "source": [
        "raw = pd.read_csv(\"drive/My Drive/COSIW/a_5.csv\")"
      ],
      "execution_count": null,
      "outputs": []
    },
    {
      "cell_type": "code",
      "metadata": {
        "colab": {
          "base_uri": "https://localhost:8080/",
          "height": 224
        },
        "id": "ytjsKhCoYfVM",
        "outputId": "52c8e616-566e-4a7c-bcb0-f3e2514da8ca"
      },
      "source": [
        "raw.head()"
      ],
      "execution_count": null,
      "outputs": [
        {
          "output_type": "execute_result",
          "data": {
            "text/html": [
              "<div>\n",
              "<style scoped>\n",
              "    .dataframe tbody tr th:only-of-type {\n",
              "        vertical-align: middle;\n",
              "    }\n",
              "\n",
              "    .dataframe tbody tr th {\n",
              "        vertical-align: top;\n",
              "    }\n",
              "\n",
              "    .dataframe thead th {\n",
              "        text-align: right;\n",
              "    }\n",
              "</style>\n",
              "<table border=\"1\" class=\"dataframe\">\n",
              "  <thead>\n",
              "    <tr style=\"text-align: right;\">\n",
              "      <th></th>\n",
              "      <th>RANCEST</th>\n",
              "      <th>prob_talk_prof</th>\n",
              "      <th>comf_talk_prof</th>\n",
              "      <th>embar_talk_prof</th>\n",
              "      <th>%_helpful_talk_prof</th>\n",
              "      <th>%_better_without_prof</th>\n",
              "      <th>religion_comfort</th>\n",
              "      <th>inter_hard_english</th>\n",
              "      <th>treated_badly_english</th>\n",
              "      <th>avoid_treatment_INS</th>\n",
              "      <th>comm_care_own_lang</th>\n",
              "      <th>interp_available</th>\n",
              "      <th>cost_routine_checkup</th>\n",
              "      <th>cost_perscrip_medicine</th>\n",
              "      <th>difficult_appointment_phone</th>\n",
              "      <th>difficult_referral_specialist</th>\n",
              "      <th>provider_spends_limited_time</th>\n",
              "      <th>1_hr_waiting_room</th>\n",
              "      <th>difficult_advice_phone</th>\n",
              "      <th>difficult_going_clinic</th>\n",
              "      <th>difficult_getting_meds</th>\n",
              "      <th>lack_continuous_care_providers</th>\n",
              "      <th>V00995</th>\n",
              "    </tr>\n",
              "  </thead>\n",
              "  <tbody>\n",
              "    <tr>\n",
              "      <th>0</th>\n",
              "      <td>hispanic</td>\n",
              "      <td>1.0</td>\n",
              "      <td>1.0</td>\n",
              "      <td>4.0</td>\n",
              "      <td>NaN</td>\n",
              "      <td>NaN</td>\n",
              "      <td>1.0</td>\n",
              "      <td>NaN</td>\n",
              "      <td>NaN</td>\n",
              "      <td>NaN</td>\n",
              "      <td>NaN</td>\n",
              "      <td>NaN</td>\n",
              "      <td>5-10</td>\n",
              "      <td>10-16</td>\n",
              "      <td>0.0</td>\n",
              "      <td>0.0</td>\n",
              "      <td>0.0</td>\n",
              "      <td>1.0</td>\n",
              "      <td>0.0</td>\n",
              "      <td>0.0</td>\n",
              "      <td>0.0</td>\n",
              "      <td>0.0</td>\n",
              "      <td>1.0</td>\n",
              "    </tr>\n",
              "    <tr>\n",
              "      <th>1</th>\n",
              "      <td>hispanic</td>\n",
              "      <td>3.0</td>\n",
              "      <td>2.0</td>\n",
              "      <td>4.0</td>\n",
              "      <td>NaN</td>\n",
              "      <td>NaN</td>\n",
              "      <td>4.0</td>\n",
              "      <td>0.0</td>\n",
              "      <td>0.0</td>\n",
              "      <td>0.0</td>\n",
              "      <td>NaN</td>\n",
              "      <td>NaN</td>\n",
              "      <td>16-20</td>\n",
              "      <td>20-50</td>\n",
              "      <td>1.0</td>\n",
              "      <td>1.0</td>\n",
              "      <td>1.0</td>\n",
              "      <td>1.0</td>\n",
              "      <td>0.0</td>\n",
              "      <td>0.0</td>\n",
              "      <td>0.0</td>\n",
              "      <td>0.0</td>\n",
              "      <td>1.0</td>\n",
              "    </tr>\n",
              "    <tr>\n",
              "      <th>2</th>\n",
              "      <td>hispanic</td>\n",
              "      <td>1.0</td>\n",
              "      <td>1.0</td>\n",
              "      <td>4.0</td>\n",
              "      <td>NaN</td>\n",
              "      <td>NaN</td>\n",
              "      <td>1.0</td>\n",
              "      <td>0.0</td>\n",
              "      <td>1.0</td>\n",
              "      <td>0.0</td>\n",
              "      <td>1.0</td>\n",
              "      <td>NaN</td>\n",
              "      <td>10-16</td>\n",
              "      <td>50-750</td>\n",
              "      <td>1.0</td>\n",
              "      <td>1.0</td>\n",
              "      <td>1.0</td>\n",
              "      <td>1.0</td>\n",
              "      <td>1.0</td>\n",
              "      <td>0.0</td>\n",
              "      <td>0.0</td>\n",
              "      <td>1.0</td>\n",
              "      <td>1.0</td>\n",
              "    </tr>\n",
              "    <tr>\n",
              "      <th>3</th>\n",
              "      <td>hispanic</td>\n",
              "      <td>1.0</td>\n",
              "      <td>1.0</td>\n",
              "      <td>4.0</td>\n",
              "      <td>NaN</td>\n",
              "      <td>NaN</td>\n",
              "      <td>1.0</td>\n",
              "      <td>1.0</td>\n",
              "      <td>1.0</td>\n",
              "      <td>0.0</td>\n",
              "      <td>1.0</td>\n",
              "      <td>NaN</td>\n",
              "      <td>0</td>\n",
              "      <td>0</td>\n",
              "      <td>0.0</td>\n",
              "      <td>0.0</td>\n",
              "      <td>0.0</td>\n",
              "      <td>1.0</td>\n",
              "      <td>0.0</td>\n",
              "      <td>1.0</td>\n",
              "      <td>0.0</td>\n",
              "      <td>0.0</td>\n",
              "      <td>0.0</td>\n",
              "    </tr>\n",
              "    <tr>\n",
              "      <th>4</th>\n",
              "      <td>asian</td>\n",
              "      <td>3.0</td>\n",
              "      <td>2.0</td>\n",
              "      <td>3.0</td>\n",
              "      <td>NaN</td>\n",
              "      <td>NaN</td>\n",
              "      <td>3.0</td>\n",
              "      <td>0.0</td>\n",
              "      <td>0.0</td>\n",
              "      <td>0.0</td>\n",
              "      <td>NaN</td>\n",
              "      <td>NaN</td>\n",
              "      <td>NaN</td>\n",
              "      <td>NaN</td>\n",
              "      <td>NaN</td>\n",
              "      <td>NaN</td>\n",
              "      <td>NaN</td>\n",
              "      <td>NaN</td>\n",
              "      <td>NaN</td>\n",
              "      <td>NaN</td>\n",
              "      <td>NaN</td>\n",
              "      <td>NaN</td>\n",
              "      <td>1.0</td>\n",
              "    </tr>\n",
              "  </tbody>\n",
              "</table>\n",
              "</div>"
            ],
            "text/plain": [
              "    RANCEST  prob_talk_prof  ...  lack_continuous_care_providers  V00995\n",
              "0  hispanic             1.0  ...                             0.0     1.0\n",
              "1  hispanic             3.0  ...                             0.0     1.0\n",
              "2  hispanic             1.0  ...                             1.0     1.0\n",
              "3  hispanic             1.0  ...                             0.0     0.0\n",
              "4     asian             3.0  ...                             NaN     1.0\n",
              "\n",
              "[5 rows x 23 columns]"
            ]
          },
          "metadata": {
            "tags": []
          },
          "execution_count": 22
        }
      ]
    },
    {
      "cell_type": "code",
      "metadata": {
        "colab": {
          "base_uri": "https://localhost:8080/"
        },
        "id": "t4NheorMYg8R",
        "outputId": "7493f1dc-b498-427d-e330-ad373b6de1d6"
      },
      "source": [
        "raw.shape"
      ],
      "execution_count": null,
      "outputs": [
        {
          "output_type": "execute_result",
          "data": {
            "text/plain": [
              "(3476, 23)"
            ]
          },
          "metadata": {
            "tags": []
          },
          "execution_count": 23
        }
      ]
    },
    {
      "cell_type": "code",
      "metadata": {
        "colab": {
          "base_uri": "https://localhost:8080/"
        },
        "id": "Zlk4ozjmYnwy",
        "outputId": "8095902c-3ebf-4441-cf82-d15d49866e32"
      },
      "source": [
        "raw.isna().sum() < 1500\n"
      ],
      "execution_count": null,
      "outputs": [
        {
          "output_type": "execute_result",
          "data": {
            "text/plain": [
              "RANCEST                            True\n",
              "prob_talk_prof                     True\n",
              "comf_talk_prof                     True\n",
              "embar_talk_prof                    True\n",
              "%_helpful_talk_prof               False\n",
              "%_better_without_prof             False\n",
              "religion_comfort                   True\n",
              "inter_hard_english                False\n",
              "treated_badly_english             False\n",
              "avoid_treatment_INS               False\n",
              "comm_care_own_lang                False\n",
              "interp_available                  False\n",
              "cost_routine_checkup               True\n",
              "cost_perscrip_medicine            False\n",
              "difficult_appointment_phone       False\n",
              "difficult_referral_specialist     False\n",
              "provider_spends_limited_time      False\n",
              "1_hr_waiting_room                 False\n",
              "difficult_advice_phone            False\n",
              "difficult_going_clinic            False\n",
              "difficult_getting_meds            False\n",
              "lack_continuous_care_providers    False\n",
              "V00995                             True\n",
              "dtype: bool"
            ]
          },
          "metadata": {
            "tags": []
          },
          "execution_count": 24
        }
      ]
    },
    {
      "cell_type": "code",
      "metadata": {
        "id": "XMYTmycOaY9t"
      },
      "source": [
        "data = raw.copy(deep=True)"
      ],
      "execution_count": null,
      "outputs": []
    },
    {
      "cell_type": "code",
      "metadata": {
        "id": "Xo1W5AASYyp5"
      },
      "source": [
        "cited_difficulty_cols = [\"difficult_appointment_phone\", \"difficult_referral_specialist\", \"provider_spends_limited_time\", \"1_hr_waiting_room\", \"difficult_advice_phone\", \"difficult_going_clinic\", \"difficult_getting_meds\", \"lack_continuous_care_providers\"]\n",
        "merge(data, cited_difficulty_cols, \"cited_difficulty\")"
      ],
      "execution_count": null,
      "outputs": []
    },
    {
      "cell_type": "code",
      "metadata": {
        "colab": {
          "base_uri": "https://localhost:8080/"
        },
        "id": "cTOE8SZzadtw",
        "outputId": "476fb008-7027-4211-9a8b-d00327bd1451"
      },
      "source": [
        "data.isna().sum()"
      ],
      "execution_count": null,
      "outputs": [
        {
          "output_type": "execute_result",
          "data": {
            "text/plain": [
              "RANCEST                              0\n",
              "prob_talk_prof                     633\n",
              "comf_talk_prof                     643\n",
              "embar_talk_prof                    636\n",
              "%_helpful_talk_prof               1611\n",
              "%_better_without_prof             1607\n",
              "religion_comfort                   810\n",
              "inter_hard_english                3011\n",
              "treated_badly_english             3012\n",
              "avoid_treatment_INS               3011\n",
              "comm_care_own_lang                3132\n",
              "interp_available                  3457\n",
              "cost_routine_checkup              1331\n",
              "cost_perscrip_medicine            1530\n",
              "difficult_appointment_phone       2877\n",
              "difficult_referral_specialist     2877\n",
              "provider_spends_limited_time      2878\n",
              "1_hr_waiting_room                 2877\n",
              "difficult_advice_phone            2879\n",
              "difficult_going_clinic            2878\n",
              "difficult_getting_meds            2877\n",
              "lack_continuous_care_providers    2877\n",
              "V00995                               0\n",
              "cited_difficulty                     0\n",
              "dtype: int64"
            ]
          },
          "metadata": {
            "tags": []
          },
          "execution_count": 30
        }
      ]
    },
    {
      "cell_type": "code",
      "metadata": {
        "id": "VFcY0LCWahJz"
      },
      "source": [
        "data.drop(columns=cited_difficulty_cols, inplace=True)"
      ],
      "execution_count": null,
      "outputs": []
    },
    {
      "cell_type": "code",
      "metadata": {
        "colab": {
          "base_uri": "https://localhost:8080/"
        },
        "id": "PMpZJnY7ar0R",
        "outputId": "d19608d8-6c4b-4eef-ae8e-d523cc98ff33"
      },
      "source": [
        "data.isna().sum()"
      ],
      "execution_count": null,
      "outputs": [
        {
          "output_type": "execute_result",
          "data": {
            "text/plain": [
              "RANCEST                      0\n",
              "prob_talk_prof             633\n",
              "comf_talk_prof             643\n",
              "embar_talk_prof            636\n",
              "%_helpful_talk_prof       1611\n",
              "%_better_without_prof     1607\n",
              "religion_comfort           810\n",
              "inter_hard_english        3011\n",
              "treated_badly_english     3012\n",
              "avoid_treatment_INS       3011\n",
              "comm_care_own_lang        3132\n",
              "interp_available          3457\n",
              "cost_routine_checkup      1331\n",
              "cost_perscrip_medicine    1530\n",
              "V00995                       0\n",
              "cited_difficulty             0\n",
              "dtype: int64"
            ]
          },
          "metadata": {
            "tags": []
          },
          "execution_count": 35
        }
      ]
    },
    {
      "cell_type": "code",
      "metadata": {
        "id": "IXrRMep0bCYv"
      },
      "source": [
        "drop_these = [col for col in data.columns if data[col].isna().sum() > 3000]"
      ],
      "execution_count": null,
      "outputs": []
    },
    {
      "cell_type": "code",
      "metadata": {
        "id": "ITUEH4iBbUuA"
      },
      "source": [
        "data.drop(columns=drop_these, inplace=True)"
      ],
      "execution_count": null,
      "outputs": []
    },
    {
      "cell_type": "code",
      "metadata": {
        "colab": {
          "base_uri": "https://localhost:8080/"
        },
        "id": "vTlCzi3lbWZv",
        "outputId": "51340bc8-953a-4492-83d6-a9cec2c98112"
      },
      "source": [
        "data.isna().sum()"
      ],
      "execution_count": null,
      "outputs": [
        {
          "output_type": "execute_result",
          "data": {
            "text/plain": [
              "RANCEST                      0\n",
              "prob_talk_prof             633\n",
              "comf_talk_prof             643\n",
              "embar_talk_prof            636\n",
              "%_helpful_talk_prof       1611\n",
              "%_better_without_prof     1607\n",
              "religion_comfort           810\n",
              "cost_routine_checkup      1331\n",
              "cost_perscrip_medicine    1530\n",
              "V00995                       0\n",
              "cited_difficulty             0\n",
              "dtype: int64"
            ]
          },
          "metadata": {
            "tags": []
          },
          "execution_count": 41
        }
      ]
    },
    {
      "cell_type": "code",
      "metadata": {
        "colab": {
          "base_uri": "https://localhost:8080/"
        },
        "id": "5jS-PMxLbse-",
        "outputId": "6d0377f7-146a-46fb-97c9-12b0f1fb78b0"
      },
      "source": [
        "for col in data.columns:\n",
        "  print(col + \" \" + str(data[col].unique()))"
      ],
      "execution_count": null,
      "outputs": [
        {
          "output_type": "stream",
          "text": [
            "RANCEST ['hispanic' 'asian' 'white' 'black' 'other']\n",
            "prob_talk_prof [ 1.  3.  2.  4. nan]\n",
            "comf_talk_prof [ 1.  2.  4.  3. nan]\n",
            "embar_talk_prof [ 4.  3.  2.  1. nan]\n",
            "%_helpful_talk_prof [nan '25-50' '75-100' '0-25' '50-75']\n",
            "%_better_without_prof [nan '0-25' '25-50' '50-75' '75-100']\n",
            "religion_comfort [ 1.  4.  3.  2. nan]\n",
            "cost_routine_checkup ['5-10' '16-20' '10-16' '0' nan '1-5' '20-50' '50-750']\n",
            "cost_perscrip_medicine ['10-16' '20-50' '50-750' '0' nan '5-10' '1-5' '16-20']\n",
            "V00995 [1. 0.]\n",
            "cited_difficulty [1 0]\n"
          ],
          "name": "stdout"
        }
      ]
    },
    {
      "cell_type": "code",
      "metadata": {
        "id": "8TIBQIANcC-d"
      },
      "source": [
        "one_hot_cols = []\n",
        "\n",
        "for col in data.columns:\n",
        "  if data[col].nunique() > 2:\n",
        "    one_hot_cols.append(col)\n",
        "\n",
        "one_hot_df = pd.get_dummies(data, columns=one_hot_cols)"
      ],
      "execution_count": null,
      "outputs": []
    },
    {
      "cell_type": "code",
      "metadata": {
        "id": "XV_k6pXtcS9t"
      },
      "source": [
        "for col in one_hot_cols:\n",
        "  one_hot_df.loc[data[col].isnull(), one_hot_df.columns.str.startswith(col)] = np.nan"
      ],
      "execution_count": null,
      "outputs": []
    },
    {
      "cell_type": "code",
      "metadata": {
        "id": "K_E0NrBObcKs"
      },
      "source": [
        "imputer = KNNImputer(n_neighbors=5)"
      ],
      "execution_count": null,
      "outputs": []
    },
    {
      "cell_type": "code",
      "metadata": {
        "id": "zCJfAV5tbjPx"
      },
      "source": [
        "imputed_new_data = imputer.fit_transform(one_hot_df)"
      ],
      "execution_count": null,
      "outputs": []
    },
    {
      "cell_type": "code",
      "metadata": {
        "id": "0f9omb02bmmI"
      },
      "source": [
        "imputed_new_data_df = pd.DataFrame(data=imputed_new_data, columns=one_hot_df.columns)"
      ],
      "execution_count": null,
      "outputs": []
    },
    {
      "cell_type": "code",
      "metadata": {
        "colab": {
          "base_uri": "https://localhost:8080/",
          "height": 241
        },
        "id": "ubUmpNGeco4w",
        "outputId": "4b72845c-ba0a-40e6-f70b-bb22cabf36ad"
      },
      "source": [
        "imputed_new_data_df.head()"
      ],
      "execution_count": null,
      "outputs": [
        {
          "output_type": "execute_result",
          "data": {
            "text/html": [
              "<div>\n",
              "<style scoped>\n",
              "    .dataframe tbody tr th:only-of-type {\n",
              "        vertical-align: middle;\n",
              "    }\n",
              "\n",
              "    .dataframe tbody tr th {\n",
              "        vertical-align: top;\n",
              "    }\n",
              "\n",
              "    .dataframe thead th {\n",
              "        text-align: right;\n",
              "    }\n",
              "</style>\n",
              "<table border=\"1\" class=\"dataframe\">\n",
              "  <thead>\n",
              "    <tr style=\"text-align: right;\">\n",
              "      <th></th>\n",
              "      <th>V00995</th>\n",
              "      <th>cited_difficulty</th>\n",
              "      <th>RANCEST_asian</th>\n",
              "      <th>RANCEST_black</th>\n",
              "      <th>RANCEST_hispanic</th>\n",
              "      <th>RANCEST_other</th>\n",
              "      <th>RANCEST_white</th>\n",
              "      <th>prob_talk_prof_1.0</th>\n",
              "      <th>prob_talk_prof_2.0</th>\n",
              "      <th>prob_talk_prof_3.0</th>\n",
              "      <th>prob_talk_prof_4.0</th>\n",
              "      <th>comf_talk_prof_1.0</th>\n",
              "      <th>comf_talk_prof_2.0</th>\n",
              "      <th>comf_talk_prof_3.0</th>\n",
              "      <th>comf_talk_prof_4.0</th>\n",
              "      <th>embar_talk_prof_1.0</th>\n",
              "      <th>embar_talk_prof_2.0</th>\n",
              "      <th>embar_talk_prof_3.0</th>\n",
              "      <th>embar_talk_prof_4.0</th>\n",
              "      <th>%_helpful_talk_prof_0-25</th>\n",
              "      <th>%_helpful_talk_prof_25-50</th>\n",
              "      <th>%_helpful_talk_prof_50-75</th>\n",
              "      <th>%_helpful_talk_prof_75-100</th>\n",
              "      <th>%_better_without_prof_0-25</th>\n",
              "      <th>%_better_without_prof_25-50</th>\n",
              "      <th>%_better_without_prof_50-75</th>\n",
              "      <th>%_better_without_prof_75-100</th>\n",
              "      <th>religion_comfort_1.0</th>\n",
              "      <th>religion_comfort_2.0</th>\n",
              "      <th>religion_comfort_3.0</th>\n",
              "      <th>religion_comfort_4.0</th>\n",
              "      <th>cost_routine_checkup_0</th>\n",
              "      <th>cost_routine_checkup_1-5</th>\n",
              "      <th>cost_routine_checkup_10-16</th>\n",
              "      <th>cost_routine_checkup_16-20</th>\n",
              "      <th>cost_routine_checkup_20-50</th>\n",
              "      <th>cost_routine_checkup_5-10</th>\n",
              "      <th>cost_routine_checkup_50-750</th>\n",
              "      <th>cost_perscrip_medicine_0</th>\n",
              "      <th>cost_perscrip_medicine_1-5</th>\n",
              "      <th>cost_perscrip_medicine_10-16</th>\n",
              "      <th>cost_perscrip_medicine_16-20</th>\n",
              "      <th>cost_perscrip_medicine_20-50</th>\n",
              "      <th>cost_perscrip_medicine_5-10</th>\n",
              "      <th>cost_perscrip_medicine_50-750</th>\n",
              "    </tr>\n",
              "  </thead>\n",
              "  <tbody>\n",
              "    <tr>\n",
              "      <th>0</th>\n",
              "      <td>1.0</td>\n",
              "      <td>1.0</td>\n",
              "      <td>0.0</td>\n",
              "      <td>0.0</td>\n",
              "      <td>1.0</td>\n",
              "      <td>0.0</td>\n",
              "      <td>0.0</td>\n",
              "      <td>1.0</td>\n",
              "      <td>0.0</td>\n",
              "      <td>0.0</td>\n",
              "      <td>0.0</td>\n",
              "      <td>1.0</td>\n",
              "      <td>0.0</td>\n",
              "      <td>0.0</td>\n",
              "      <td>0.0</td>\n",
              "      <td>0.0</td>\n",
              "      <td>0.0</td>\n",
              "      <td>0.0</td>\n",
              "      <td>1.0</td>\n",
              "      <td>0.0</td>\n",
              "      <td>0.4</td>\n",
              "      <td>0.0</td>\n",
              "      <td>0.6</td>\n",
              "      <td>0.8</td>\n",
              "      <td>0.2</td>\n",
              "      <td>0.0</td>\n",
              "      <td>0.0</td>\n",
              "      <td>1.0</td>\n",
              "      <td>0.0</td>\n",
              "      <td>0.0</td>\n",
              "      <td>0.0</td>\n",
              "      <td>0.0</td>\n",
              "      <td>0.0</td>\n",
              "      <td>0.0</td>\n",
              "      <td>0.0</td>\n",
              "      <td>0.0</td>\n",
              "      <td>1.0</td>\n",
              "      <td>0.0</td>\n",
              "      <td>0.0</td>\n",
              "      <td>0.0</td>\n",
              "      <td>1.0</td>\n",
              "      <td>0.0</td>\n",
              "      <td>0.0</td>\n",
              "      <td>0.0</td>\n",
              "      <td>0.0</td>\n",
              "    </tr>\n",
              "    <tr>\n",
              "      <th>1</th>\n",
              "      <td>1.0</td>\n",
              "      <td>1.0</td>\n",
              "      <td>0.0</td>\n",
              "      <td>0.0</td>\n",
              "      <td>1.0</td>\n",
              "      <td>0.0</td>\n",
              "      <td>0.0</td>\n",
              "      <td>0.0</td>\n",
              "      <td>0.0</td>\n",
              "      <td>1.0</td>\n",
              "      <td>0.0</td>\n",
              "      <td>0.0</td>\n",
              "      <td>1.0</td>\n",
              "      <td>0.0</td>\n",
              "      <td>0.0</td>\n",
              "      <td>0.0</td>\n",
              "      <td>0.0</td>\n",
              "      <td>0.0</td>\n",
              "      <td>1.0</td>\n",
              "      <td>0.4</td>\n",
              "      <td>0.2</td>\n",
              "      <td>0.2</td>\n",
              "      <td>0.2</td>\n",
              "      <td>1.0</td>\n",
              "      <td>0.0</td>\n",
              "      <td>0.0</td>\n",
              "      <td>0.0</td>\n",
              "      <td>0.0</td>\n",
              "      <td>0.0</td>\n",
              "      <td>0.0</td>\n",
              "      <td>1.0</td>\n",
              "      <td>0.0</td>\n",
              "      <td>0.0</td>\n",
              "      <td>0.0</td>\n",
              "      <td>1.0</td>\n",
              "      <td>0.0</td>\n",
              "      <td>0.0</td>\n",
              "      <td>0.0</td>\n",
              "      <td>0.0</td>\n",
              "      <td>0.0</td>\n",
              "      <td>0.0</td>\n",
              "      <td>0.0</td>\n",
              "      <td>1.0</td>\n",
              "      <td>0.0</td>\n",
              "      <td>0.0</td>\n",
              "    </tr>\n",
              "    <tr>\n",
              "      <th>2</th>\n",
              "      <td>1.0</td>\n",
              "      <td>1.0</td>\n",
              "      <td>0.0</td>\n",
              "      <td>0.0</td>\n",
              "      <td>1.0</td>\n",
              "      <td>0.0</td>\n",
              "      <td>0.0</td>\n",
              "      <td>1.0</td>\n",
              "      <td>0.0</td>\n",
              "      <td>0.0</td>\n",
              "      <td>0.0</td>\n",
              "      <td>1.0</td>\n",
              "      <td>0.0</td>\n",
              "      <td>0.0</td>\n",
              "      <td>0.0</td>\n",
              "      <td>0.0</td>\n",
              "      <td>0.0</td>\n",
              "      <td>0.0</td>\n",
              "      <td>1.0</td>\n",
              "      <td>0.0</td>\n",
              "      <td>0.2</td>\n",
              "      <td>0.0</td>\n",
              "      <td>0.8</td>\n",
              "      <td>0.8</td>\n",
              "      <td>0.2</td>\n",
              "      <td>0.0</td>\n",
              "      <td>0.0</td>\n",
              "      <td>1.0</td>\n",
              "      <td>0.0</td>\n",
              "      <td>0.0</td>\n",
              "      <td>0.0</td>\n",
              "      <td>0.0</td>\n",
              "      <td>0.0</td>\n",
              "      <td>1.0</td>\n",
              "      <td>0.0</td>\n",
              "      <td>0.0</td>\n",
              "      <td>0.0</td>\n",
              "      <td>0.0</td>\n",
              "      <td>0.0</td>\n",
              "      <td>0.0</td>\n",
              "      <td>0.0</td>\n",
              "      <td>0.0</td>\n",
              "      <td>0.0</td>\n",
              "      <td>0.0</td>\n",
              "      <td>1.0</td>\n",
              "    </tr>\n",
              "    <tr>\n",
              "      <th>3</th>\n",
              "      <td>0.0</td>\n",
              "      <td>1.0</td>\n",
              "      <td>0.0</td>\n",
              "      <td>0.0</td>\n",
              "      <td>1.0</td>\n",
              "      <td>0.0</td>\n",
              "      <td>0.0</td>\n",
              "      <td>1.0</td>\n",
              "      <td>0.0</td>\n",
              "      <td>0.0</td>\n",
              "      <td>0.0</td>\n",
              "      <td>1.0</td>\n",
              "      <td>0.0</td>\n",
              "      <td>0.0</td>\n",
              "      <td>0.0</td>\n",
              "      <td>0.0</td>\n",
              "      <td>0.0</td>\n",
              "      <td>0.0</td>\n",
              "      <td>1.0</td>\n",
              "      <td>0.0</td>\n",
              "      <td>0.2</td>\n",
              "      <td>0.2</td>\n",
              "      <td>0.6</td>\n",
              "      <td>0.6</td>\n",
              "      <td>0.4</td>\n",
              "      <td>0.0</td>\n",
              "      <td>0.0</td>\n",
              "      <td>1.0</td>\n",
              "      <td>0.0</td>\n",
              "      <td>0.0</td>\n",
              "      <td>0.0</td>\n",
              "      <td>1.0</td>\n",
              "      <td>0.0</td>\n",
              "      <td>0.0</td>\n",
              "      <td>0.0</td>\n",
              "      <td>0.0</td>\n",
              "      <td>0.0</td>\n",
              "      <td>0.0</td>\n",
              "      <td>1.0</td>\n",
              "      <td>0.0</td>\n",
              "      <td>0.0</td>\n",
              "      <td>0.0</td>\n",
              "      <td>0.0</td>\n",
              "      <td>0.0</td>\n",
              "      <td>0.0</td>\n",
              "    </tr>\n",
              "    <tr>\n",
              "      <th>4</th>\n",
              "      <td>1.0</td>\n",
              "      <td>1.0</td>\n",
              "      <td>1.0</td>\n",
              "      <td>0.0</td>\n",
              "      <td>0.0</td>\n",
              "      <td>0.0</td>\n",
              "      <td>0.0</td>\n",
              "      <td>0.0</td>\n",
              "      <td>0.0</td>\n",
              "      <td>1.0</td>\n",
              "      <td>0.0</td>\n",
              "      <td>0.0</td>\n",
              "      <td>1.0</td>\n",
              "      <td>0.0</td>\n",
              "      <td>0.0</td>\n",
              "      <td>0.0</td>\n",
              "      <td>0.0</td>\n",
              "      <td>1.0</td>\n",
              "      <td>0.0</td>\n",
              "      <td>0.0</td>\n",
              "      <td>0.6</td>\n",
              "      <td>0.4</td>\n",
              "      <td>0.0</td>\n",
              "      <td>0.2</td>\n",
              "      <td>0.6</td>\n",
              "      <td>0.0</td>\n",
              "      <td>0.2</td>\n",
              "      <td>0.0</td>\n",
              "      <td>0.0</td>\n",
              "      <td>1.0</td>\n",
              "      <td>0.0</td>\n",
              "      <td>0.0</td>\n",
              "      <td>0.0</td>\n",
              "      <td>0.0</td>\n",
              "      <td>0.2</td>\n",
              "      <td>0.2</td>\n",
              "      <td>0.4</td>\n",
              "      <td>0.2</td>\n",
              "      <td>0.2</td>\n",
              "      <td>0.0</td>\n",
              "      <td>0.0</td>\n",
              "      <td>0.2</td>\n",
              "      <td>0.0</td>\n",
              "      <td>0.6</td>\n",
              "      <td>0.0</td>\n",
              "    </tr>\n",
              "  </tbody>\n",
              "</table>\n",
              "</div>"
            ],
            "text/plain": [
              "   V00995  ...  cost_perscrip_medicine_50-750\n",
              "0     1.0  ...                            0.0\n",
              "1     1.0  ...                            0.0\n",
              "2     1.0  ...                            1.0\n",
              "3     0.0  ...                            0.0\n",
              "4     1.0  ...                            0.0\n",
              "\n",
              "[5 rows x 45 columns]"
            ]
          },
          "metadata": {
            "tags": []
          },
          "execution_count": 56
        }
      ]
    },
    {
      "cell_type": "code",
      "metadata": {
        "id": "GipMBcQcc0dv"
      },
      "source": [
        "threshold_data = imputed_new_data_df.copy(deep=True)"
      ],
      "execution_count": null,
      "outputs": []
    },
    {
      "cell_type": "code",
      "metadata": {
        "id": "V6YeJtGqc56k"
      },
      "source": [
        "for col in threshold_data.columns:\n",
        "  if len(threshold_data[col].unique()) > 2:\n",
        "    threshold_data[col] = threshold_data[col].apply(lambda x: 1 if x >= 0.5 else 0)"
      ],
      "execution_count": null,
      "outputs": []
    },
    {
      "cell_type": "code",
      "metadata": {
        "id": "fozGXditc9N9"
      },
      "source": [
        "threshold_data.to_csv(\"drive/My Drive/COSIW/a_imputed.csv\", index=False)"
      ],
      "execution_count": null,
      "outputs": []
    },
    {
      "cell_type": "code",
      "metadata": {
        "id": "MR0anW4fdBTl"
      },
      "source": [
        ""
      ],
      "execution_count": null,
      "outputs": []
    }
  ]
}
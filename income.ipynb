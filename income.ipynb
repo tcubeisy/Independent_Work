{
  "nbformat": 4,
  "nbformat_minor": 0,
  "metadata": {
    "kernelspec": {
      "display_name": "Python 3",
      "language": "python",
      "name": "python3"
    },
    "language_info": {
      "codemirror_mode": {
        "name": "ipython",
        "version": 3
      },
      "file_extension": ".py",
      "mimetype": "text/x-python",
      "name": "python",
      "nbconvert_exporter": "python",
      "pygments_lexer": "ipython3",
      "version": "3.8.2"
    },
    "colab": {
      "name": "income.ipynb",
      "provenance": []
    }
  },
  "cells": [
    {
      "cell_type": "code",
      "metadata": {
        "id": "KEvlSY9IBdkN"
      },
      "source": [
        "import os\n",
        "import numpy as np\n",
        "import pandas as pd\n",
        "import seaborn as sns\n",
        "from matplotlib import pyplot as plt\n",
        "\n",
        "%matplotlib inline"
      ],
      "execution_count": null,
      "outputs": []
    },
    {
      "cell_type": "code",
      "metadata": {
        "id": "vLohpCWiBdkS"
      },
      "source": [
        "races_colors = {\"white\":\"blue\", \"black\":\"orange\", \"hispanic\":\"green\", \"asian\": \"red\", \"other\":\"purple\"}"
      ],
      "execution_count": null,
      "outputs": []
    },
    {
      "cell_type": "code",
      "metadata": {
        "id": "C4X8GDxkBdkS"
      },
      "source": [
        "def label_race(id:int)->str:  \n",
        "    if id in [1, 2, 3, 4]:\n",
        "        return 'asian'\n",
        "    elif id in [5, 6, 7, 8]:\n",
        "        return'hispanic'\n",
        "\n",
        "    elif id in [9, 10]:\n",
        "        return 'black'\n",
        "\n",
        "    elif id == 11:\n",
        "        return 'white'\n",
        "\n",
        "    else:\n",
        "        return 'other'"
      ],
      "execution_count": null,
      "outputs": []
    },
    {
      "cell_type": "code",
      "metadata": {
        "id": "FlpPIJ1rBdkT"
      },
      "source": [
        "data_dir = os.path.join(os.curdir, \"..\", \"data\")\n",
        "file_path = os.path.join(data_dir, \"raw.csv\")\n",
        "data = pd.read_csv(file_path, low_memory=False)"
      ],
      "execution_count": null,
      "outputs": []
    },
    {
      "cell_type": "code",
      "metadata": {
        "id": "VDzU04IMBdkT",
        "outputId": "cf471498-e740-47a7-d525-22f2fa4429ab"
      },
      "source": [
        "data.head()"
      ],
      "execution_count": null,
      "outputs": [
        {
          "output_type": "execute_result",
          "data": {
            "text/html": [
              "<div>\n",
              "<style scoped>\n",
              "    .dataframe tbody tr th:only-of-type {\n",
              "        vertical-align: middle;\n",
              "    }\n",
              "\n",
              "    .dataframe tbody tr th {\n",
              "        vertical-align: top;\n",
              "    }\n",
              "\n",
              "    .dataframe thead th {\n",
              "        text-align: right;\n",
              "    }\n",
              "</style>\n",
              "<table border=\"1\" class=\"dataframe\">\n",
              "  <thead>\n",
              "    <tr style=\"text-align: right;\">\n",
              "      <th></th>\n",
              "      <th>work_status</th>\n",
              "      <th>children_HH</th>\n",
              "      <th>adults_HH</th>\n",
              "      <th>V00995</th>\n",
              "      <th>professional_seen</th>\n",
              "      <th>age_talk_prof</th>\n",
              "      <th>recieved_helpful_treatment</th>\n",
              "      <th>total_profs_seen_1</th>\n",
              "      <th>treatment_past_12mthns</th>\n",
              "      <th>V01012</th>\n",
              "      <th>...</th>\n",
              "      <th>social worker</th>\n",
              "      <th>counselor</th>\n",
              "      <th>non-MD</th>\n",
              "      <th>spiritual advisor</th>\n",
              "      <th>healer</th>\n",
              "      <th>psychologist</th>\n",
              "      <th>depress_diagnos</th>\n",
              "      <th>identify_ethnicity</th>\n",
              "      <th>employment</th>\n",
              "      <th>nonpre_meds_taken</th>\n",
              "    </tr>\n",
              "  </thead>\n",
              "  <tbody>\n",
              "    <tr>\n",
              "      <th>0</th>\n",
              "      <td>1.0</td>\n",
              "      <td>0</td>\n",
              "      <td>2</td>\n",
              "      <td>NaN</td>\n",
              "      <td>NaN</td>\n",
              "      <td>NaN</td>\n",
              "      <td>NaN</td>\n",
              "      <td>NaN</td>\n",
              "      <td>NaN</td>\n",
              "      <td>NaN</td>\n",
              "      <td>...</td>\n",
              "      <td>NaN</td>\n",
              "      <td>NaN</td>\n",
              "      <td>NaN</td>\n",
              "      <td>NaN</td>\n",
              "      <td>NaN</td>\n",
              "      <td>NaN</td>\n",
              "      <td>NaN</td>\n",
              "      <td>2.0</td>\n",
              "      <td>1.0</td>\n",
              "      <td>1</td>\n",
              "    </tr>\n",
              "    <tr>\n",
              "      <th>1</th>\n",
              "      <td>1.0</td>\n",
              "      <td>0</td>\n",
              "      <td>1</td>\n",
              "      <td>NaN</td>\n",
              "      <td>NaN</td>\n",
              "      <td>NaN</td>\n",
              "      <td>NaN</td>\n",
              "      <td>NaN</td>\n",
              "      <td>NaN</td>\n",
              "      <td>NaN</td>\n",
              "      <td>...</td>\n",
              "      <td>NaN</td>\n",
              "      <td>NaN</td>\n",
              "      <td>NaN</td>\n",
              "      <td>NaN</td>\n",
              "      <td>NaN</td>\n",
              "      <td>NaN</td>\n",
              "      <td>NaN</td>\n",
              "      <td>1.0</td>\n",
              "      <td>1.0</td>\n",
              "      <td>1</td>\n",
              "    </tr>\n",
              "    <tr>\n",
              "      <th>2</th>\n",
              "      <td>3.0</td>\n",
              "      <td>0</td>\n",
              "      <td>1</td>\n",
              "      <td>NaN</td>\n",
              "      <td>NaN</td>\n",
              "      <td>NaN</td>\n",
              "      <td>NaN</td>\n",
              "      <td>NaN</td>\n",
              "      <td>NaN</td>\n",
              "      <td>NaN</td>\n",
              "      <td>...</td>\n",
              "      <td>NaN</td>\n",
              "      <td>NaN</td>\n",
              "      <td>NaN</td>\n",
              "      <td>NaN</td>\n",
              "      <td>NaN</td>\n",
              "      <td>NaN</td>\n",
              "      <td>NaN</td>\n",
              "      <td>2.0</td>\n",
              "      <td>NaN</td>\n",
              "      <td>1</td>\n",
              "    </tr>\n",
              "    <tr>\n",
              "      <th>3</th>\n",
              "      <td>1.0</td>\n",
              "      <td>0</td>\n",
              "      <td>2</td>\n",
              "      <td>1.0</td>\n",
              "      <td>4.0</td>\n",
              "      <td>25-50</td>\n",
              "      <td>1.0</td>\n",
              "      <td>2.0</td>\n",
              "      <td>0.0</td>\n",
              "      <td>1.0</td>\n",
              "      <td>...</td>\n",
              "      <td>NaN</td>\n",
              "      <td>NaN</td>\n",
              "      <td>NaN</td>\n",
              "      <td>NaN</td>\n",
              "      <td>NaN</td>\n",
              "      <td>NaN</td>\n",
              "      <td>1.0</td>\n",
              "      <td>1.0</td>\n",
              "      <td>1.0</td>\n",
              "      <td>1</td>\n",
              "    </tr>\n",
              "    <tr>\n",
              "      <th>4</th>\n",
              "      <td>1.0</td>\n",
              "      <td>0</td>\n",
              "      <td>1</td>\n",
              "      <td>NaN</td>\n",
              "      <td>NaN</td>\n",
              "      <td>NaN</td>\n",
              "      <td>NaN</td>\n",
              "      <td>NaN</td>\n",
              "      <td>NaN</td>\n",
              "      <td>NaN</td>\n",
              "      <td>...</td>\n",
              "      <td>NaN</td>\n",
              "      <td>NaN</td>\n",
              "      <td>NaN</td>\n",
              "      <td>NaN</td>\n",
              "      <td>NaN</td>\n",
              "      <td>NaN</td>\n",
              "      <td>NaN</td>\n",
              "      <td>1.5</td>\n",
              "      <td>1.0</td>\n",
              "      <td>1</td>\n",
              "    </tr>\n",
              "  </tbody>\n",
              "</table>\n",
              "<p>5 rows × 108 columns</p>\n",
              "</div>"
            ],
            "text/plain": [
              "   work_status  children_HH  adults_HH  V00995  professional_seen  \\\n",
              "0          1.0            0          2     NaN                NaN   \n",
              "1          1.0            0          1     NaN                NaN   \n",
              "2          3.0            0          1     NaN                NaN   \n",
              "3          1.0            0          2     1.0                4.0   \n",
              "4          1.0            0          1     NaN                NaN   \n",
              "\n",
              "  age_talk_prof  recieved_helpful_treatment  total_profs_seen_1  \\\n",
              "0           NaN                         NaN                 NaN   \n",
              "1           NaN                         NaN                 NaN   \n",
              "2           NaN                         NaN                 NaN   \n",
              "3         25-50                         1.0                 2.0   \n",
              "4           NaN                         NaN                 NaN   \n",
              "\n",
              "   treatment_past_12mthns  V01012  ...  social worker  counselor  non-MD  \\\n",
              "0                     NaN     NaN  ...            NaN        NaN     NaN   \n",
              "1                     NaN     NaN  ...            NaN        NaN     NaN   \n",
              "2                     NaN     NaN  ...            NaN        NaN     NaN   \n",
              "3                     0.0     1.0  ...            NaN        NaN     NaN   \n",
              "4                     NaN     NaN  ...            NaN        NaN     NaN   \n",
              "\n",
              "   spiritual advisor  healer  psychologist  depress_diagnos  \\\n",
              "0                NaN     NaN           NaN              NaN   \n",
              "1                NaN     NaN           NaN              NaN   \n",
              "2                NaN     NaN           NaN              NaN   \n",
              "3                NaN     NaN           NaN              1.0   \n",
              "4                NaN     NaN           NaN              NaN   \n",
              "\n",
              "   identify_ethnicity  employment  nonpre_meds_taken  \n",
              "0                 2.0         1.0                  1  \n",
              "1                 1.0         1.0                  1  \n",
              "2                 2.0         NaN                  1  \n",
              "3                 1.0         1.0                  1  \n",
              "4                 1.5         1.0                  1  \n",
              "\n",
              "[5 rows x 108 columns]"
            ]
          },
          "metadata": {
            "tags": []
          },
          "execution_count": 5
        }
      ]
    },
    {
      "cell_type": "code",
      "metadata": {
        "id": "5Y7GXrL1BdkU"
      },
      "source": [
        "data[\"RANCEST\"] = data[\"RANCEST\"].apply(label_race)"
      ],
      "execution_count": null,
      "outputs": []
    },
    {
      "cell_type": "code",
      "metadata": {
        "id": "dtlltcVRBdkU",
        "outputId": "e10d3ed7-6f87-4df5-e8b5-3cac03bbc94f"
      },
      "source": [
        "races = data[\"RANCEST\"].unique()\n",
        "races"
      ],
      "execution_count": null,
      "outputs": [
        {
          "output_type": "execute_result",
          "data": {
            "text/plain": [
              "array(['asian', 'hispanic', 'white', 'black', 'other'], dtype=object)"
            ]
          },
          "metadata": {
            "tags": []
          },
          "execution_count": 7
        }
      ]
    },
    {
      "cell_type": "code",
      "metadata": {
        "id": "QkZvcnlWBdkV",
        "outputId": "a8e6846f-4d9c-484d-9ac2-595d24beab5a"
      },
      "source": [
        "new_data = data.copy(deep=True)\n",
        "new_data.dropna(subset=[\"income\"], inplace=True)\n",
        "races_incomes = pd.DataFrame(columns=new_data[\"income\"].unique(), index=races)\n",
        "for race in races:\n",
        "    race_count = len(new_data[new_data[\"RANCEST\"] == race])\n",
        "    races_incomes.loc[race] = new_data[new_data[\"RANCEST\"] == race][\"income\"].value_counts() / race_count * 100\n",
        "races_incomes"
      ],
      "execution_count": null,
      "outputs": [
        {
          "output_type": "execute_result",
          "data": {
            "text/html": [
              "<div>\n",
              "<style scoped>\n",
              "    .dataframe tbody tr th:only-of-type {\n",
              "        vertical-align: middle;\n",
              "    }\n",
              "\n",
              "    .dataframe tbody tr th {\n",
              "        vertical-align: top;\n",
              "    }\n",
              "\n",
              "    .dataframe thead th {\n",
              "        text-align: right;\n",
              "    }\n",
              "</style>\n",
              "<table border=\"1\" class=\"dataframe\">\n",
              "  <thead>\n",
              "    <tr style=\"text-align: right;\">\n",
              "      <th></th>\n",
              "      <th>100K - 150K</th>\n",
              "      <th>25K-50K</th>\n",
              "      <th>&gt;150K</th>\n",
              "      <th>50K-75K</th>\n",
              "      <th>75K-100K</th>\n",
              "      <th>0-25K</th>\n",
              "    </tr>\n",
              "  </thead>\n",
              "  <tbody>\n",
              "    <tr>\n",
              "      <th>asian</th>\n",
              "      <td>14.141414</td>\n",
              "      <td>20.523416</td>\n",
              "      <td>13.498623</td>\n",
              "      <td>14.462810</td>\n",
              "      <td>12.672176</td>\n",
              "      <td>24.701561</td>\n",
              "    </tr>\n",
              "    <tr>\n",
              "      <th>hispanic</th>\n",
              "      <td>6.066176</td>\n",
              "      <td>25.520833</td>\n",
              "      <td>5.085784</td>\n",
              "      <td>14.399510</td>\n",
              "      <td>7.475490</td>\n",
              "      <td>41.452206</td>\n",
              "    </tr>\n",
              "    <tr>\n",
              "      <th>white</th>\n",
              "      <td>9.524749</td>\n",
              "      <td>27.095247</td>\n",
              "      <td>6.113193</td>\n",
              "      <td>20.252416</td>\n",
              "      <td>11.338986</td>\n",
              "      <td>25.675409</td>\n",
              "    </tr>\n",
              "    <tr>\n",
              "      <th>black</th>\n",
              "      <td>2.637555</td>\n",
              "      <td>31.633188</td>\n",
              "      <td>1.432314</td>\n",
              "      <td>11.266376</td>\n",
              "      <td>5.240175</td>\n",
              "      <td>47.790393</td>\n",
              "    </tr>\n",
              "    <tr>\n",
              "      <th>other</th>\n",
              "      <td>4.864865</td>\n",
              "      <td>31.351351</td>\n",
              "      <td>3.243243</td>\n",
              "      <td>14.054054</td>\n",
              "      <td>4.324324</td>\n",
              "      <td>42.162162</td>\n",
              "    </tr>\n",
              "  </tbody>\n",
              "</table>\n",
              "</div>"
            ],
            "text/plain": [
              "         100K - 150K    25K-50K      >150K    50K-75K   75K-100K      0-25K\n",
              "asian      14.141414  20.523416  13.498623  14.462810  12.672176  24.701561\n",
              "hispanic    6.066176  25.520833   5.085784  14.399510   7.475490  41.452206\n",
              "white       9.524749  27.095247   6.113193  20.252416  11.338986  25.675409\n",
              "black       2.637555  31.633188   1.432314  11.266376   5.240175  47.790393\n",
              "other       4.864865  31.351351   3.243243  14.054054   4.324324  42.162162"
            ]
          },
          "metadata": {
            "tags": []
          },
          "execution_count": 8
        }
      ]
    },
    {
      "cell_type": "code",
      "metadata": {
        "id": "NV5-tTmLBdkV"
      },
      "source": [
        "races_incomes.columns\n",
        "\n",
        "races_incomes = races_incomes[['0-25K', '25K-50K', '50K-75K', '75K-100K', '100K - 150K', '>150K']]"
      ],
      "execution_count": null,
      "outputs": []
    },
    {
      "cell_type": "code",
      "metadata": {
        "id": "v7v1UgwDBdkX",
        "outputId": "5068b182-e4f9-48b7-eda3-c4e7972a64c7"
      },
      "source": [
        "fig, ax = plt.subplots(figsize=(15, 12))\n",
        "\n",
        "# set width of bar\n",
        "width = 0.1\n",
        " \n",
        "r = np.arange(len(races_incomes.columns)) - 2 * width\n",
        "for race in races:\n",
        "    ax.bar(r, races_incomes.loc[race], width=width, label=race.capitalize(), color=races_colors[race])\n",
        "    r = [x + width for x in r]\n",
        "\n",
        "ax.legend()\n",
        "\n",
        "ax.xaxis.set_ticks(ticks=np.arange(len(races_incomes.columns)))\n",
        "ax.xaxis.set_ticklabels(races_incomes.columns.tolist())\n",
        "fig.suptitle(\"Income Distribution and Race\", fontsize=25, y=0.93)\n",
        "ax.set_ylabel(\"% of race\", fontdict=dict(size=15), labelpad=15)\n",
        "ax.set_xlabel(\"Income group\", fontdict=dict(size=15), labelpad=15)\n",
        "\n",
        "fig.show()\n"
      ],
      "execution_count": null,
      "outputs": [
        {
          "output_type": "display_data",
          "data": {
            "image/png": "[encoded data removed]",
            "text/plain": [
              "<Figure size 1080x864 with 1 Axes>"
            ]
          },
          "metadata": {
            "tags": [],
            "needs_background": "light"
          }
        }
      ]
    },
    {
      "cell_type": "code",
      "metadata": {
        "scrolled": true,
        "id": "7MFaLjOHBdkY"
      },
      "source": [
        "treatment = new_data[pd.notna(new_data[\"V00995\"])]\n",
        "income_treatment = treatment[treatment[\"V00995\"] == 1][\"income\"].value_counts()\n",
        "for income in income_treatment.index:\n",
        "    income_count = len(treatment[treatment[\"income\"] == income])\n",
        "    income_treatment.loc[income] /= income_count\n",
        "    \n",
        "\n",
        "    "
      ],
      "execution_count": null,
      "outputs": []
    },
    {
      "cell_type": "code",
      "metadata": {
        "id": "O499Am6BBdkY",
        "outputId": "cfb7879c-1a37-430c-ce3c-c7c809372424"
      },
      "source": [
        "fig, ax = plt.subplots(figsize=(15, 12))\n",
        "\n",
        "sns.barplot(x=income_treatment.index, y=income_treatment.values, ax=ax)\n",
        "ax.set_title(label=\"Treatment Percentage per Income Group\", fontdict=dict(size=25), pad=25)\n",
        "\n",
        "ax.set_yticks(np.arange(0, 1.1, 0.05))\n",
        "ax.set_ylabel(\"% received treatment\", fontdict=dict(size=15), labelpad=15)\n",
        "ax.set_xlabel(\"Income group\", fontdict=dict(size=15), labelpad=15)\n",
        "\n",
        "fig.show()"
      ],
      "execution_count": null,
      "outputs": [
        {
          "output_type": "display_data",
          "data": {
            "image/png": "[encoded data removed]",
            "text/plain": [
              "<Figure size 1080x864 with 1 Axes>"
            ]
          },
          "metadata": {
            "tags": [],
            "needs_background": "light"
          }
        }
      ]
    },
    {
      "cell_type": "code",
      "metadata": {
        "id": "uXGdMrmmBdkY"
      },
      "source": [
        ""
      ],
      "execution_count": null,
      "outputs": []
    },
    {
      "cell_type": "code",
      "metadata": {
        "id": "wJBPHU3NBdkZ"
      },
      "source": [
        ""
      ],
      "execution_count": null,
      "outputs": []
    }
  ]
}